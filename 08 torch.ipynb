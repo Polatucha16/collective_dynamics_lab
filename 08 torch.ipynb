{
 "cells": [
  {
   "cell_type": "code",
   "execution_count": 2,
   "id": "62445855-22a7-41a5-bf41-554b736e3238",
   "metadata": {},
   "outputs": [],
   "source": [
    "import torch\n",
    "import numpy as np"
   ]
  },
  {
   "cell_type": "markdown",
   "id": "f1b9f298-149a-422b-ac14-dc157803d02f",
   "metadata": {},
   "source": [
    "Let's get familiar with some of torch's commands."
   ]
  },
  {
   "cell_type": "code",
   "execution_count": 3,
   "id": "b5f2700e-ed98-402e-a9d4-9741baa2b45e",
   "metadata": {},
   "outputs": [
    {
     "data": {
      "text/plain": [
       "tensor([[0.8542, 0.2789, 0.5361],\n",
       "        [0.3017, 0.8755, 0.2555],\n",
       "        [0.5928, 0.2469, 0.9477]])"
      ]
     },
     "execution_count": 3,
     "metadata": {},
     "output_type": "execute_result"
    }
   ],
   "source": [
    "x_torch= torch.rand(3,3)\n",
    "x_torch\n",
    "# x_np = np.random.rand(3,3)\n",
    "# x_np"
   ]
  },
  {
   "cell_type": "markdown",
   "id": "c4301830-0b72-414a-a03e-4bab92f6909a",
   "metadata": {},
   "source": [
    "### What is .backward() ??"
   ]
  },
  {
   "cell_type": "code",
   "execution_count": 59,
   "id": "4abfa4a9-f26e-4e71-b637-003bb8b9c9fd",
   "metadata": {},
   "outputs": [
    {
     "data": {
      "text/plain": [
       "tensor([1., 1., 1.], requires_grad=True)"
      ]
     },
     "execution_count": 59,
     "metadata": {},
     "output_type": "execute_result"
    }
   ],
   "source": [
    "# x = torch.randn(3, requires_grad=True)\n",
    "x = torch.tensor([1.0,1,1], requires_grad=True) # torch.tensor([1,1,1], requires_grad=True) is error due to type \n",
    "x"
   ]
  },
  {
   "cell_type": "code",
   "execution_count": 60,
   "id": "fa537b57-fbbb-4b94-a287-f795e9049272",
   "metadata": {},
   "outputs": [
    {
     "name": "stdout",
     "output_type": "stream",
     "text": [
      "tensor([2., 2., 2.])\n"
     ]
    }
   ],
   "source": [
    "# backward() accumulates the gradient multiple evaluation of the cell changes the result:\n",
    "y = x*x+2\n",
    "z = y.sum()\n",
    "z.backward()\n",
    "print(x.grad)"
   ]
  },
  {
   "cell_type": "code",
   "execution_count": 61,
   "id": "018483c1-a591-480b-9376-31d5ae75e662",
   "metadata": {},
   "outputs": [
    {
     "data": {
      "text/plain": [
       "tensor([0., 0., 0.])"
      ]
     },
     "execution_count": 61,
     "metadata": {},
     "output_type": "execute_result"
    }
   ],
   "source": [
    "# we can help it to zero gradient we can use:\n",
    "x.grad.data.zero_()"
   ]
  },
  {
   "cell_type": "code",
   "execution_count": 62,
   "id": "285fa4f4-2dce-4d23-ae6e-417bbf4c8c1e",
   "metadata": {},
   "outputs": [
    {
     "name": "stdout",
     "output_type": "stream",
     "text": [
      "tensor([2., 2., 2.])\n"
     ]
    }
   ],
   "source": [
    "# this time we have the same result\n",
    "y = x*x+2\n",
    "z = y.sum()\n",
    "if x.grad is None:\n",
    "    # before the first call .backward(), x.grad is None\n",
    "    z.backward()\n",
    "else:\n",
    "    x.grad.data.zero_()\n",
    "    z.backward()\n",
    "print(x.grad)"
   ]
  },
  {
   "cell_type": "code",
   "execution_count": 63,
   "id": "7e309265-7ea7-443e-a943-56c7bea91099",
   "metadata": {
    "tags": []
   },
   "outputs": [
    {
     "data": {
      "text/plain": [
       "tensor([  0.0000,   0.9801,   1.8421,   2.4760,   2.7868,   2.7015,   2.1741,\n",
       "          1.1898,  -0.2336,  -2.0448,  -4.1615,  -6.4735,  -8.8487, -11.1396,\n",
       "        -13.1911, -14.8499, -15.9727, -16.4356, -16.1417, -15.0284, -13.0729,\n",
       "        -10.2955,  -6.7613,  -2.5795,   2.1000,   7.0916,  12.1814,  17.1367,\n",
       "         21.7159,  25.6801,  28.8051,  30.8928])"
      ]
     },
     "execution_count": 63,
     "metadata": {},
     "output_type": "execute_result"
    }
   ],
   "source": [
    "a = torch.arange(start=0, end=2*np.pi, step=0.2, requires_grad=True)\n",
    "b = torch.sin(a)\n",
    "b.backward(torch.arange(32)) # b.backward() result in error\n",
    "a.grad"
   ]
  },
  {
   "cell_type": "markdown",
   "id": "1a6928d6-f730-431c-a40d-6f85026da764",
   "metadata": {},
   "source": [
    "```b``` depends on ```a```\n",
    "$$\\mathbb{R}^{32}\\ni \\texttt{a}=\\left( x_0, x_1, \\ldots, x_{31}\\right) \n",
    "\\overset{b}{\\longrightarrow} \n",
    "\\left(\\sin(x_0),\\sin(x_1), \\ldots,\\sin(x_{31})\\right)=\\texttt{b}(\\texttt{a})\\in\\mathbb{R}^{32} $$\n",
    "the line ```b.backward(v)``` can be interpreted computing:\n",
    "$$\n",
    "\\partial_{\\texttt{v}}\\texttt{b}(\\texttt{a}) = D\\texttt{b}(\\texttt{a})(\\texttt{v})=D\\texttt{b}(\\texttt{a})\\cdot\\texttt{v},\\text{ where } \n",
    "D\\texttt{b}(\\texttt{a})\\in \\mathcal{L}(T_a\\mathbb{R}^{32},T_{b(a)}\\mathbb{R}^{32}) \\simeq M_{32\\times 32}(\\mathbb{R})$$\n"
   ]
  },
  {
   "cell_type": "code",
   "execution_count": 64,
   "id": "2cbe55e6-198d-4f4d-9f68-d001906c6f3a",
   "metadata": {},
   "outputs": [
    {
     "data": {
      "text/plain": [
       "tensor(True)"
      ]
     },
     "execution_count": 64,
     "metadata": {},
     "output_type": "execute_result"
    }
   ],
   "source": [
    "# and indeed:\n",
    "np.cos(a[-1].detach())*31 == a.grad[-1]"
   ]
  },
  {
   "cell_type": "code",
   "execution_count": 78,
   "id": "8f3f3c0e-ad71-4ef8-a790-4fa1fd12c163",
   "metadata": {},
   "outputs": [
    {
     "name": "stdout",
     "output_type": "stream",
     "text": [
      "[[0. 0. 0. 0.]\n",
      " [0. 1. 1. 0.]\n",
      " [0. 1. 1. 0.]\n",
      " [0. 0. 0. 0.]] \n",
      " =\n",
      "[[0. 1. 1. 0.]\n",
      " [0. 1. 1. 0.]\n",
      " [0. 1. 1. 0.]\n",
      " [0. 1. 1. 0.]]\n",
      " multiplied by \n",
      "[[0. 0. 0. 0.]\n",
      " [1. 1. 1. 1.]\n",
      " [1. 1. 1. 1.]\n",
      " [0. 0. 0. 0.]]\n"
     ]
    },
    {
     "data": {
      "text/plain": [
       "tensor([[0., 0., 0., 0.],\n",
       "        [0., 2., 2., 0.],\n",
       "        [0., 2., 2., 0.],\n",
       "        [0., 0., 0., 0.]])"
      ]
     },
     "execution_count": 78,
     "metadata": {},
     "output_type": "execute_result"
    }
   ],
   "source": [
    "t = torch.ones(4, 4,requires_grad=True)\n",
    "m, m[0,0], m[3,3] = torch.eye(4), 0, 0\n",
    "s = torch.matmul(t,m) * torch.matmul(m,t)\n",
    "print(f\"{s.detach().numpy()} \\n =\\n{torch.matmul(t,m).detach().numpy()}\\n multiplied by \\n{torch.matmul(m,t).detach().numpy()}\")\n",
    "u = s.sum()\n",
    "u.backward()\n",
    "t.grad"
   ]
  },
  {
   "cell_type": "markdown",
   "id": "5f4decc9-b96c-42c9-b8ac-b8a1c77abe23",
   "metadata": {},
   "source": [
    "Read more [here](https://pytorch.org/tutorials/beginner/introyt/autogradyt_tutorial.html)"
   ]
  },
  {
   "cell_type": "markdown",
   "id": "655c5f8c-c7a3-4390-902c-3f518002a21e",
   "metadata": {},
   "source": [
    "### Labeled data load:\n",
    "Cells below is almost [tutorial](https://pytorch.org/tutorials/beginner/basics/data_tutorial.html) but insead of FashionMNIST, data from MNIST is loaded."
   ]
  },
  {
   "cell_type": "code",
   "execution_count": 5,
   "id": "440ea4cb-a399-47f4-9ad8-eec9863d0c5d",
   "metadata": {},
   "outputs": [],
   "source": [
    "import torch\n",
    "from torch.utils.data import Dataset\n",
    "from torchvision import datasets\n",
    "from torchvision.transforms import ToTensor\n",
    "\n",
    "import matplotlib.pyplot as plt"
   ]
  },
  {
   "cell_type": "code",
   "execution_count": 155,
   "id": "3ba2044c-1635-4c88-9c0e-43d93c4253ed",
   "metadata": {
    "tags": []
   },
   "outputs": [],
   "source": [
    "training_data = datasets.MNIST(\n",
    "    root=\"data\",\n",
    "    train=True,\n",
    "    download=False,    #True if not dowloaded\n",
    "    transform=ToTensor()\n",
    ")\n",
    "test_data = datasets.MNIST(\n",
    "    root=\"data\",\n",
    "    train=False,\n",
    "    download=False,    #True if not dowloaded\n",
    "    transform=ToTensor()\n",
    ")"
   ]
  },
  {
   "cell_type": "code",
   "execution_count": 8,
   "id": "145d897b-00fd-4737-99a5-c293baa1b5b7",
   "metadata": {},
   "outputs": [
    {
     "name": "stdout",
     "output_type": "stream",
     "text": [
      "9\n"
     ]
    },
    {
     "data": {
      "image/png": "[encoded data removed]",
      "text/plain": [
       "<Figure size 500x500 with 1 Axes>"
      ]
     },
     "metadata": {},
     "output_type": "display_data"
    }
   ],
   "source": [
    "# preview data by choosing i-th element form dataset:\n",
    "ith = 4\n",
    "figure = plt.figure(figsize=(5, 5))\n",
    "img, label = training_data[ith]\n",
    "print(label)\n",
    "plt.imshow(img.squeeze(), cmap=\"gray\") # .squeeze() like in numpy it removes axes with dimention 1 i.e. [[[[1],[2]],[[3],[4]],[[5],[6]]]] ->[[,],[,],[]]\n",
    "plt.show()"
   ]
  },
  {
   "cell_type": "code",
   "execution_count": 130,
   "id": "3ac36e35-f991-475d-bbfc-2d828bf8d577",
   "metadata": {},
   "outputs": [],
   "source": [
    "# dictionary of strings, in code below str(label) would also work, but for categorical data e.g. FashionMNIST dict is useful.\n",
    "labels_map = {i : str(i) for i in range(10)}"
   ]
  },
  {
   "cell_type": "code",
   "execution_count": 119,
   "id": "fcc20a38-e103-424a-92f4-e2d742aeab44",
   "metadata": {},
   "outputs": [
    {
     "data": {
      "image/png": "[encoded data removed]",
      "text/plain": [
       "<Figure size 800x800 with 9 Axes>"
      ]
     },
     "metadata": {},
     "output_type": "display_data"
    }
   ],
   "source": [
    "# example of accessing pairs of (image,lable)\n",
    "figure = plt.figure(figsize=(8, 8))\n",
    "cols, rows = 3, 3\n",
    "for i in range(1, cols * rows + 1):\n",
    "    sample_idx = torch.randint(len(training_data), size=(1,)).item() \n",
    "    img, label = training_data[sample_idx]\n",
    "    figure.add_subplot(rows, cols, i)\n",
    "    plt.title(labels_map[label])\n",
    "    plt.axis(\"off\")\n",
    "    plt.imshow(img.squeeze(), cmap=\"gray\")\n",
    "plt.show()"
   ]
  },
  {
   "cell_type": "code",
   "execution_count": 31,
   "id": "51aa17eb-d53c-438f-9cd0-e34113324dc6",
   "metadata": {},
   "outputs": [
    {
     "name": "stdout",
     "output_type": "stream",
     "text": [
      "784\n"
     ]
    }
   ],
   "source": [
    "# Every picture is this many numbers:\n",
    "print(np.prod(img.shape))"
   ]
  },
  {
   "cell_type": "code",
   "execution_count": 156,
   "id": "810b34e9-bd61-4a9e-aeda-9e6e99861813",
   "metadata": {},
   "outputs": [
    {
     "ename": "AttributeError",
     "evalue": "'MNIST' object has no attribute 'to'",
     "output_type": "error",
     "traceback": [
      "\u001b[1;31m---------------------------------------------------------------------------\u001b[0m",
      "\u001b[1;31mAttributeError\u001b[0m                            Traceback (most recent call last)",
      "Input \u001b[1;32mIn [156]\u001b[0m, in \u001b[0;36m<cell line: 11>\u001b[1;34m()\u001b[0m\n\u001b[0;32m      5\u001b[0m test_dataloader \u001b[38;5;241m=\u001b[39m DataLoader(test_data, batch_size\u001b[38;5;241m=\u001b[39m\u001b[38;5;241m100\u001b[39m, shuffle\u001b[38;5;241m=\u001b[39m\u001b[38;5;28;01mTrue\u001b[39;00m)\n\u001b[0;32m      7\u001b[0m \u001b[38;5;66;03m# appointing the hardwere\u001b[39;00m\n\u001b[0;32m      8\u001b[0m \u001b[38;5;66;03m# device = \"cuda\" if torch.cuda.is_available() else \"cpu\"\u001b[39;00m\n\u001b[0;32m      9\u001b[0m \u001b[38;5;66;03m# print(f\"Using {device} device\")\u001b[39;00m\n\u001b[1;32m---> 11\u001b[0m \u001b[43mtraining_data\u001b[49m\u001b[38;5;241;43m.\u001b[39;49m\u001b[43mto\u001b[49m(device)\n",
      "\u001b[1;31mAttributeError\u001b[0m: 'MNIST' object has no attribute 'to'"
     ]
    }
   ],
   "source": [
    "#data from training_data and test_data for traning. Here splitting into batches and shuffling is taken care of.\n",
    "from torch.utils.data import DataLoader\n",
    "\n",
    "train_dataloader = DataLoader(training_data, batch_size=100, shuffle=True)\n",
    "test_dataloader = DataLoader(test_data, batch_size=100, shuffle=True)\n",
    "\n",
    "# appointing the hardwere\n",
    "# device = \"cuda\" if torch.cuda.is_available() else \"cpu\"\n",
    "# print(f\"Using {device} device\")\n",
    "\n",
    "# for i, (images, labels) in enumerate(train_dataloader):\n",
    "#     images, labels = images.to(device), labels.to(device)\n",
    "#     if i % 100 ==0:\n",
    "#         print(labels.device)\n",
    "        \n",
    "# for i, (images, labels) in enumerate(train_dataloader):\n",
    "#     if i % 100 ==0:\n",
    "#         print(labels.device)"
   ]
  },
  {
   "cell_type": "code",
   "execution_count": 133,
   "id": "3b648da8-f600-412e-9dce-a12f0b132503",
   "metadata": {},
   "outputs": [
    {
     "name": "stdout",
     "output_type": "stream",
     "text": [
      "Batch number is 0\n",
      "\n",
      "Shape of data tensor in the batch = torch.Size([100, 1, 28, 28])\n",
      "\n",
      "The labels is another tesor = tensor([7, 3, 0, 2, 8, 0, 6, 3, 9, 3, 5, 3, 3, 9, 8, 2, 9, 8, 2, 6, 7, 1, 6, 4,\n",
      "        2, 3, 8, 3, 8, 3, 4, 8, 5, 1, 0, 5, 5, 6, 9, 4, 9, 7, 4, 1, 3, 4, 0, 0,\n",
      "        7, 2, 2, 4, 3, 9, 3, 3, 0, 4, 4, 9, 2, 2, 7, 4, 0, 1, 2, 0, 9, 8, 3, 4,\n",
      "        9, 3, 9, 4, 3, 3, 8, 1, 3, 0, 3, 9, 8, 6, 8, 2, 6, 9, 6, 4, 1, 3, 2, 9,\n",
      "        6, 2, 5, 3])\n"
     ]
    }
   ],
   "source": [
    "# when we touch \"touched\" the above DataLoader(...) returns a list of two tensors:\n",
    "# [ tesnor( data_0, data_1, data_2...,databatch_size ), tensor(label_0,label_1,...,label_batch_size)]\n",
    "# this is will be used in traning loop.\n",
    "\n",
    "for batch, (X, y) in enumerate(train_dataloader):\n",
    "    print(f\"Batch number is {batch}\\n\")\n",
    "    print(f\"Shape of data tensor in the batch = {X.size()}\\n\")\n",
    "    print(f\"The labels is another tesor = {y}\")\n",
    "    if batch == 0:\n",
    "        break\n",
    "# for batch, el in enumerate(train_dataloader):\n",
    "#     print(el)\n",
    "#     if batch == 1:\n",
    "#         break"
   ]
  },
  {
   "cell_type": "markdown",
   "id": "228a30f5-edc5-4ab6-863b-724117cce51d",
   "metadata": {},
   "source": [
    "Notice that return of a DataLoader(...) is an iterable and with every \"touch\" function ```next``` is called.\\\n",
    "Therefore evaluation of the above cell ruins the variable ```train_dataloader``` as\n",
    "the pointer is not on the first element of the data."
   ]
  },
  {
   "cell_type": "code",
   "execution_count": 32,
   "id": "cb5cf250-cdd3-4d61-8fe2-6d6dc71b4261",
   "metadata": {},
   "outputs": [
    {
     "name": "stdout",
     "output_type": "stream",
     "text": [
      "Using cuda device\n"
     ]
    }
   ],
   "source": [
    "# appointing the hardwere\n",
    "device = \"cuda\" if torch.cuda.is_available() else \"cpu\"\n",
    "print(f\"Using {device} device\")"
   ]
  },
  {
   "cell_type": "markdown",
   "id": "12bdca50-b6d6-43e9-a430-0cfe4fd1c5b4",
   "metadata": {},
   "source": [
    "### Our small Neural Network\n",
    "Below we define class: ```NeuralNetwork``` which will be our small model.\\\n",
    "For curious there is something about function [super](https://stackoverflow.com/a/33469090) and [how](https://en.wikipedia.org/wiki/C3_linearization) MRO (Method Resolution Order) works in python."
   ]
  },
  {
   "cell_type": "code",
   "execution_count": 169,
   "id": "47e1339b-3fbc-4d21-9a45-86cf6a63c6c8",
   "metadata": {},
   "outputs": [],
   "source": [
    "import os\n",
    "from torch import nn\n",
    "from torchvision import datasets, transforms\n",
    "\n",
    "class NeuralNetwork(nn.Module):\n",
    "    def __init__(self):\n",
    "        # call __init__ from the parent class: nn.Module.\n",
    "        super(NeuralNetwork, self).__init__()\n",
    "        \n",
    "        # this flattens the images in the batch to the 1d tensors suitabe for nn.Sequential\n",
    "        self.flatten = nn.Flatten()\n",
    "        self.linear_relu_stack = nn.Sequential(\n",
    "            nn.Linear(28*28, 16),  #  input -> 1st layer  = first hidden layer  16 neurons. (like matrix of shape: 16 x 784)\n",
    "            nn.ReLU(),             # ReLU activation funtion at 16 neurons of the 1st layer\n",
    "            nn.Linear(16, 16),     # 1st layer -> 2nd layer = second hidden layer with 16 neurons\n",
    "            nn.ReLU(),             # ReLU activation funtion at 16 neurons of the 2nd layer\n",
    "            nn.Linear(16, 10),     # 2nd layer -> output \n",
    "        )\n",
    "\n",
    "    def forward(self, x):\n",
    "        x = self.flatten(x)\n",
    "        logits = self.linear_relu_stack(x.to('cuda'))\n",
    "        return logits"
   ]
  },
  {
   "cell_type": "markdown",
   "id": "bbb58ca2-f85f-49ee-9d5a-f034702c0df5",
   "metadata": {},
   "source": [
    "We can preview the structure of the model:"
   ]
  },
  {
   "cell_type": "code",
   "execution_count": 170,
   "id": "41adf7bf-9811-415d-9245-75b8628d7d12",
   "metadata": {},
   "outputs": [
    {
     "name": "stdout",
     "output_type": "stream",
     "text": [
      "NeuralNetwork(\n",
      "  (flatten): Flatten(start_dim=1, end_dim=-1)\n",
      "  (linear_relu_stack): Sequential(\n",
      "    (0): Linear(in_features=784, out_features=16, bias=True)\n",
      "    (1): ReLU()\n",
      "    (2): Linear(in_features=16, out_features=16, bias=True)\n",
      "    (3): ReLU()\n",
      "    (4): Linear(in_features=16, out_features=10, bias=True)\n",
      "  )\n",
      ")\n"
     ]
    }
   ],
   "source": [
    "model = NeuralNetwork().to(device) \n",
    "print(model)"
   ]
  },
  {
   "cell_type": "markdown",
   "id": "efc5e193-a698-480a-abfe-5f5d5ac6c93e",
   "metadata": {},
   "source": [
    "We can put some random data through our model and observe the result."
   ]
  },
  {
   "cell_type": "code",
   "execution_count": 171,
   "id": "bb37373c-c482-4f70-9988-686363ee9862",
   "metadata": {},
   "outputs": [
    {
     "name": "stdout",
     "output_type": "stream",
     "text": [
      "Our neural network is a function and the output on random data X is \n",
      "tensor([[-0.1423,  0.1831, -0.1042, -0.0579,  0.2345, -0.1184, -0.0876,  0.1150,\n",
      "          0.0955, -0.1981]], device='cuda:0', grad_fn=<AddmmBackward0>)\n",
      "\n",
      "Below there is nn.Softmax normalization of numbers on last layer\n",
      "tensor([[0.0865, 0.1198, 0.0899, 0.0941, 0.1261, 0.0886, 0.0914, 0.1119, 0.1098,\n",
      "         0.0818]], device='cuda:0', grad_fn=<SoftmaxBackward0>)\n",
      "\n",
      "Predicted class: tensor([4], device='cuda:0')\n",
      "\n",
      "Predicted class: 4\n"
     ]
    }
   ],
   "source": [
    "X = torch.rand(1, 28, 28, device=device) # random image\n",
    "logits = model(X)\n",
    "pred_probab = nn.Softmax(dim=1)(logits)\n",
    "print(f\"Our neural network is a function and the output on random data X is \\n{logits}\")\n",
    "print(f\"\\nBelow there is nn.Softmax normalization of numbers on last layer\\n{pred_probab}\")\n",
    "print()\n",
    "print(f\"Predicted class: {pred_probab.argmax(1)}\")\n",
    "print() # or use torch.argmax\n",
    "# print(f\"Predicted class: {torch.argmax(pred_probab, dim=1)}\")    # the same as above\n",
    "print(f\"Predicted class: {torch.argmax(pred_probab, dim=1)[0]}\")"
   ]
  },
  {
   "cell_type": "code",
   "execution_count": 57,
   "id": "bc5adfe0-348a-46d8-aa0c-b7967612ff55",
   "metadata": {
    "tags": []
   },
   "outputs": [
    {
     "data": {
      "image/png": "[encoded data removed]",
      "text/plain": [
       "<Figure size 640x480 with 1 Axes>"
      ]
     },
     "metadata": {},
     "output_type": "display_data"
    }
   ],
   "source": [
    "# This is input X:\n",
    "fig, ax = plt.subplots()\n",
    "ax.imshow(X.squeeze().cpu() , cmap=\"gray\")\n",
    "plt.show()"
   ]
  },
  {
   "cell_type": "markdown",
   "id": "ee6ff38a-f348-4571-85f8-9add5d91e99a",
   "metadata": {
    "tags": []
   },
   "source": [
    "### The parameters\n",
    "nn.Module takes care of the paremters in linear transformations and ReLUs.\\\n",
    "How to access NeuralNetwork named_parameters:\\\n",
    "(there are also .parameters)"
   ]
  },
  {
   "cell_type": "code",
   "execution_count": 109,
   "id": "3f47dca9-e7d3-4d87-ac72-70d0974e857f",
   "metadata": {},
   "outputs": [
    {
     "name": "stdout",
     "output_type": "stream",
     "text": [
      "Layer: linear_relu_stack.0.weight | Size: torch.Size([16, 784]) | Values : tensor([[-0.0347,  0.0283, -0.0079,  ...,  0.0174, -0.0122, -0.0234],\n",
      "        [ 0.0143,  0.0267, -0.0176,  ...,  0.0023,  0.0298,  0.0029]],\n",
      "       device='cuda:0', grad_fn=<SliceBackward0>) \n",
      "\n",
      "Layer: linear_relu_stack.0.bias | Size: torch.Size([16]) | Values : tensor([-0.0033, -0.0179], device='cuda:0', grad_fn=<SliceBackward0>) \n",
      "\n",
      "Layer: linear_relu_stack.2.weight | Size: torch.Size([16, 16]) | Values : tensor([[ 0.1361,  0.1447, -0.0661,  0.2239, -0.2124, -0.0215, -0.2278,  0.0455,\n",
      "          0.0122,  0.0697, -0.1572,  0.0639, -0.1251,  0.0710,  0.1620,  0.0727],\n",
      "        [ 0.0561,  0.1798,  0.0359, -0.2381, -0.0071, -0.1452,  0.0364, -0.1397,\n",
      "         -0.2334, -0.2272, -0.2142,  0.0860, -0.1515,  0.0232, -0.2425,  0.2452]],\n",
      "       device='cuda:0', grad_fn=<SliceBackward0>) \n",
      "\n",
      "Layer: linear_relu_stack.2.bias | Size: torch.Size([16]) | Values : tensor([-0.1498,  0.0056], device='cuda:0', grad_fn=<SliceBackward0>) \n",
      "\n",
      "Layer: linear_relu_stack.4.weight | Size: torch.Size([10, 16]) | Values : tensor([[-0.0492,  0.2378,  0.1090, -0.1547,  0.1401,  0.1687,  0.1032, -0.1339,\n",
      "          0.0901,  0.1365, -0.0984, -0.0930,  0.2129,  0.1869, -0.0569, -0.1408],\n",
      "        [ 0.2271,  0.1378, -0.1330,  0.0414, -0.1795,  0.1595,  0.2247,  0.1222,\n",
      "          0.1983, -0.2460,  0.1324,  0.1883,  0.1163,  0.0516, -0.2421, -0.0876]],\n",
      "       device='cuda:0', grad_fn=<SliceBackward0>) \n",
      "\n",
      "Layer: linear_relu_stack.4.bias | Size: torch.Size([10]) | Values : tensor([-0.1987, -0.1743], device='cuda:0', grad_fn=<SliceBackward0>) \n",
      "\n"
     ]
    }
   ],
   "source": [
    "for name, param in model.named_parameters():\n",
    "    print(f\"Layer: {name} | Size: {param.size()} | Values : {param[:2]} \\n\")"
   ]
  },
  {
   "cell_type": "markdown",
   "id": "f2616f9a-e930-455e-8746-e7899a0d2c8a",
   "metadata": {},
   "source": [
    "#### Some constants, called  ***hyperparameters*** - we do not minimize over those :P\n",
    "In torch tutorial there are some [examples](https://pytorch.org/tutorials/beginner/basics/optimization_tutorial.html#hyperparameters) of hyperparameters.\n",
    "They do not change at traning step. We can change them at the step called ***Refine model***.\\\n",
    "Not final reading but with a nice graf representation of the process appears in section [Basic principles of machine learning](https://www.nature.com/articles/s41524-019-0221-0#Sec2)."
   ]
  },
  {
   "cell_type": "code",
   "execution_count": 183,
   "id": "56108cd1-b5fc-4fa6-a79e-fc8e8cc3af4a",
   "metadata": {},
   "outputs": [],
   "source": [
    "# learning_rate = 1e-2    # later\n",
    "learning_rate = 1e-3\n",
    "batch_size = 100\n",
    "epochs = 5\n",
    "\n",
    "train_dataloader = DataLoader(training_data, batch_size=100, shuffle=True)\n",
    "test_dataloader = DataLoader(test_data, batch_size=100, shuffle=True)"
   ]
  },
  {
   "cell_type": "markdown",
   "id": "6ce78687-2f57-4677-9b6c-df2ce3f3bb98",
   "metadata": {},
   "source": [
    "### Loss Function\n",
    "With the loss function we almost complete the NN (as  $\\mathbb{R}^n\\rightarrow \\mathbb{R}$ function). There is a matrix input and a single number output that represents if we have something to compare with.\\\n",
    "Good start for some introduction mathematical [wikipedia surfing](https://en.wikipedia.org/wiki/Cross_entropy)."
   ]
  },
  {
   "cell_type": "code",
   "execution_count": 173,
   "id": "29c12567-37ef-46c7-bf26-133e1b96f832",
   "metadata": {},
   "outputs": [],
   "source": [
    "loss_fn = nn.CrossEntropyLoss()"
   ]
  },
  {
   "cell_type": "markdown",
   "id": "fe77297c-9363-4189-9bf2-6b5bfc8a5400",
   "metadata": {},
   "source": [
    "### Training\n",
    "i.e. try to find parameters minimising loss function on ***batches of traning data***.\\\n",
    "\\\n",
    "In the cell below is an initialization of the object that will do the traning ^_^.\\\n",
    "Important to notice: this is the place where the connection between the ***SGD algoritm*** and the ***model*** is made."
   ]
  },
  {
   "cell_type": "code",
   "execution_count": 174,
   "id": "90d994b3-f6f8-432d-972d-ec2811914008",
   "metadata": {},
   "outputs": [],
   "source": [
    "optimizer = torch.optim.SGD(model.parameters(), lr=learning_rate)"
   ]
  },
  {
   "cell_type": "markdown",
   "id": "a24bfb45-552c-43b2-8152-36b2c7731b54",
   "metadata": {},
   "source": [
    "Traning is don in a loop having 3 main parts:\n",
    "1. reseting the calculations of the derivative\n",
    "2. calculating the derivative of nn against data ()\n",
    "3. optimizing step in the direction -grad.\n",
    "\n",
    "The above loop is repeated ```epochs``` number of times.\\\n",
    "The loop definitions:\n",
    "\n",
    "<span style=\"color:red\">**NOTE**</span>: there are some ```.to('cuda')``` operations from debugging.\\\n",
    "<span style=\"color:green\">**NEEDS CLEANUP**</span>"
   ]
  },
  {
   "cell_type": "code",
   "execution_count": 181,
   "id": "e50f00ec-c2a2-4182-8bcf-a4dd5fcafa68",
   "metadata": {},
   "outputs": [],
   "source": [
    "def train_loop(dataloader, model, loss_fn, optimizer):\n",
    "    size = len(dataloader.dataset)\n",
    "    for batch, (X, y) in enumerate(dataloader):\n",
    "        # Compute prediction and loss \n",
    "        pred = model(X)            #*mat: evaluate the model batch_size of times and put results in a tensor \"next\" to each other\n",
    "        loss = loss_fn(pred, y.to('cuda'))    #*mat: compute the loss function \n",
    "\n",
    "        # Backpropagation\n",
    "        optimizer.zero_grad()      # place in memory for the derivative needs reseting\n",
    "        loss.backward()            #*mat: calculate the derivative (**)\n",
    "        optimizer.step()           # call the black box algoritm that do the magic\n",
    "\n",
    "        # print the progress every 100th batch.\n",
    "        if batch % 100 == 0:\n",
    "            loss, current = loss.item(), batch * len(X)\n",
    "            print(f\"loss: {loss:>7f}  [{current:>5d}/{size:>5d}]\")\n",
    "            \n",
    "def test_loop(dataloader, model, loss_fn):\n",
    "    size = len(dataloader.dataset)\n",
    "    num_batches = len(dataloader)\n",
    "    test_loss, correct = 0, 0\n",
    "\n",
    "    with torch.no_grad():\n",
    "        for X, y in dataloader:\n",
    "            pred = model(X)\n",
    "            test_loss += loss_fn(pred, y.to('cuda')).item()\n",
    "            correct += (pred.argmax(1) == y.to('cuda')).type(torch.float).sum().item()\n",
    "\n",
    "    test_loss /= num_batches\n",
    "    correct /= size\n",
    "    print(f\"Test Error: \\n Accuracy: {(100*correct):>0.1f}%, Avg loss: {test_loss:>8f} \\n\")"
   ]
  },
  {
   "cell_type": "markdown",
   "id": "90467e58-4682-48b9-8b4a-1ea25bce6798",
   "metadata": {},
   "source": [
    "#### (**) in the above cell\n",
    "Of what function the .backward() is called? On this :\n",
    "$$ (\\text{data},\\text{param},\\text{labels}) \\longmapsto \\text{loss_fn}\\left(\\:\\text{NN}(\\text{data},\\text{param}),\\:\\text{labels}\\right) $$\n",
    "The optimiser search for minima in parameters beacuase of its definition, remember we passed parameters as the first argument:\\\n",
    "```torch.optim.SGD(model.parameters(), lr=learning_rate)```"
   ]
  },
  {
   "cell_type": "code",
   "execution_count": 184,
   "id": "1f36f548-5177-4a48-86ff-fa0b51130f7e",
   "metadata": {
    "tags": []
   },
   "outputs": [
    {
     "name": "stdout",
     "output_type": "stream",
     "text": [
      "Epoch 1\n",
      "-------------------------------\n",
      "loss: 1.356019  [    0/60000]\n",
      "loss: 1.052694  [10000/60000]\n",
      "loss: 1.020188  [20000/60000]\n",
      "loss: 0.946388  [30000/60000]\n",
      "loss: 0.734382  [40000/60000]\n",
      "loss: 0.816583  [50000/60000]\n",
      "Test Error: \n",
      " Accuracy: 80.2%, Avg loss: 0.674041 \n",
      "\n",
      "Epoch 2\n",
      "-------------------------------\n",
      "loss: 0.964168  [    0/60000]\n",
      "loss: 0.812416  [10000/60000]\n",
      "loss: 0.500809  [20000/60000]\n",
      "loss: 0.518162  [30000/60000]\n",
      "loss: 0.468961  [40000/60000]\n",
      "loss: 0.523309  [50000/60000]\n",
      "Test Error: \n",
      " Accuracy: 84.1%, Avg loss: 0.527860 \n",
      "\n",
      "Epoch 3\n",
      "-------------------------------\n",
      "loss: 0.616703  [    0/60000]\n",
      "loss: 0.697482  [10000/60000]\n",
      "loss: 0.609876  [20000/60000]\n",
      "loss: 0.431896  [30000/60000]\n",
      "loss: 0.507498  [40000/60000]\n",
      "loss: 0.484231  [50000/60000]\n",
      "Test Error: \n",
      " Accuracy: 86.8%, Avg loss: 0.449383 \n",
      "\n",
      "Epoch 4\n",
      "-------------------------------\n",
      "loss: 0.426381  [    0/60000]\n",
      "loss: 0.533518  [10000/60000]\n",
      "loss: 0.303075  [20000/60000]\n",
      "loss: 0.489623  [30000/60000]\n",
      "loss: 0.480047  [40000/60000]\n",
      "loss: 0.388737  [50000/60000]\n",
      "Test Error: \n",
      " Accuracy: 88.6%, Avg loss: 0.396603 \n",
      "\n",
      "Epoch 5\n",
      "-------------------------------\n",
      "loss: 0.286119  [    0/60000]\n",
      "loss: 0.388420  [10000/60000]\n",
      "loss: 0.472170  [20000/60000]\n",
      "loss: 0.293027  [30000/60000]\n",
      "loss: 0.541042  [40000/60000]\n",
      "loss: 0.325509  [50000/60000]\n",
      "Test Error: \n",
      " Accuracy: 89.3%, Avg loss: 0.366672 \n",
      "\n",
      "Epoch 6\n",
      "-------------------------------\n",
      "loss: 0.304628  [    0/60000]\n",
      "loss: 0.240407  [10000/60000]\n",
      "loss: 0.420632  [20000/60000]\n",
      "loss: 0.356757  [30000/60000]\n",
      "loss: 0.404192  [40000/60000]\n",
      "loss: 0.507914  [50000/60000]\n",
      "Test Error: \n",
      " Accuracy: 90.0%, Avg loss: 0.345409 \n",
      "\n",
      "Epoch 7\n",
      "-------------------------------\n",
      "loss: 0.322011  [    0/60000]\n",
      "loss: 0.421445  [10000/60000]\n",
      "loss: 0.491491  [20000/60000]\n",
      "loss: 0.256295  [30000/60000]\n",
      "loss: 0.338645  [40000/60000]\n",
      "loss: 0.311517  [50000/60000]\n",
      "Test Error: \n",
      " Accuracy: 90.4%, Avg loss: 0.332969 \n",
      "\n",
      "Epoch 8\n",
      "-------------------------------\n",
      "loss: 0.354338  [    0/60000]\n",
      "loss: 0.458730  [10000/60000]\n",
      "loss: 0.248129  [20000/60000]\n",
      "loss: 0.292755  [30000/60000]\n",
      "loss: 0.332547  [40000/60000]\n",
      "loss: 0.351985  [50000/60000]\n",
      "Test Error: \n",
      " Accuracy: 90.5%, Avg loss: 0.322136 \n",
      "\n",
      "Epoch 9\n",
      "-------------------------------\n",
      "loss: 0.267239  [    0/60000]\n",
      "loss: 0.316912  [10000/60000]\n",
      "loss: 0.296214  [20000/60000]\n",
      "loss: 0.260320  [30000/60000]\n",
      "loss: 0.372388  [40000/60000]\n",
      "loss: 0.276395  [50000/60000]\n",
      "Test Error: \n",
      " Accuracy: 90.9%, Avg loss: 0.315862 \n",
      "\n",
      "Epoch 10\n",
      "-------------------------------\n",
      "loss: 0.387399  [    0/60000]\n",
      "loss: 0.286711  [10000/60000]\n",
      "loss: 0.257120  [20000/60000]\n",
      "loss: 0.500899  [30000/60000]\n",
      "loss: 0.373398  [40000/60000]\n",
      "loss: 0.289876  [50000/60000]\n",
      "Test Error: \n",
      " Accuracy: 91.1%, Avg loss: 0.305113 \n",
      "\n",
      "Done!\n"
     ]
    }
   ],
   "source": [
    "loss_fn = nn.CrossEntropyLoss()\n",
    "optimizer = torch.optim.SGD(model.parameters(), lr=learning_rate)\n",
    "\n",
    "epochs = 10\n",
    "for t in range(epochs):\n",
    "    print(f\"Epoch {t+1}\\n-------------------------------\")\n",
    "    train_loop(train_dataloader, model, loss_fn, optimizer)\n",
    "    test_loop(test_dataloader, model, loss_fn)\n",
    "print(\"Done!\")"
   ]
  },
  {
   "cell_type": "code",
   "execution_count": null,
   "id": "622c7e1a-f030-413d-9a43-25b54f2c67e7",
   "metadata": {},
   "outputs": [],
   "source": []
  }
 ],
 "metadata": {
  "kernelspec": {
   "display_name": "Python 3 (ipykernel)",
   "language": "python",
   "name": "python3"
  },
  "language_info": {
   "codemirror_mode": {
    "name": "ipython",
    "version": 3
   },
   "file_extension": ".py",
   "mimetype": "text/x-python",
   "name": "python",
   "nbconvert_exporter": "python",
   "pygments_lexer": "ipython3",
   "version": "3.9.12"
  }
 },
 "nbformat": 4,
 "nbformat_minor": 5
}
