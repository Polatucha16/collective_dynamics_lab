{
 "cells": [
  {
   "cell_type": "code",
   "execution_count": 2,
   "id": "62445855-22a7-41a5-bf41-554b736e3238",
   "metadata": {},
   "outputs": [],
   "source": [
    "import torch"
   ]
  },
  {
   "cell_type": "code",
   "execution_count": 12,
   "id": "b5f2700e-ed98-402e-a9d4-9741baa2b45e",
   "metadata": {},
   "outputs": [
    {
     "data": {
      "text/plain": [
       "tensor(0.0210)"
      ]
     },
     "execution_count": 12,
     "metadata": {},
     "output_type": "execute_result"
    }
   ],
   "source": [
    "x_ten = torch.rand(3,3)\n",
    "x_ten[0,0]"
   ]
  },
  {
   "cell_type": "code",
   "execution_count": 38,
   "id": "4abfa4a9-f26e-4e71-b637-003bb8b9c9fd",
   "metadata": {},
   "outputs": [],
   "source": [
    "x = torch.randn(3, requires_grad=True)"
   ]
  },
  {
   "cell_type": "code",
   "execution_count": 46,
   "id": "fa537b57-fbbb-4b94-a287-f795e9049272",
   "metadata": {},
   "outputs": [
    {
     "name": "stdout",
     "output_type": "stream",
     "text": [
      "tensor([19.5300,  4.1950,  2.0058])\n"
     ]
    }
   ],
   "source": [
    "y=x*x+2\n",
    "z=y.sum()\n",
    "z.backward()\n",
    "print(x.grad)"
   ]
  },
  {
   "cell_type": "code",
   "execution_count": 86,
   "id": "8f3f3c0e-ad71-4ef8-a790-4fa1fd12c163",
   "metadata": {},
   "outputs": [
    {
     "data": {
      "text/plain": [
       "tensor([[ 0., -1.,  1.,  0.],\n",
       "        [-1., -1.,  0., -1.],\n",
       "        [ 0., -1.,  1.,  0.],\n",
       "        [ 0., -1.,  1.,  0.]])"
      ]
     },
     "execution_count": 86,
     "metadata": {},
     "output_type": "execute_result"
    }
   ],
   "source": [
    "t = torch.ones(4, 4)\n",
    "t[:,1] = 0\n",
    "tf = torch.flip(t,dims=[1])\n",
    "# print(t,tf)\n",
    "res = t*t.T - tf\n",
    "res"
   ]
  },
  {
   "cell_type": "code",
   "execution_count": 90,
   "id": "8796e732-1a7e-441c-94d8-81cf32c128e2",
   "metadata": {},
   "outputs": [
    {
     "data": {
      "text/plain": [
       "tensor(-3.)"
      ]
     },
     "execution_count": 90,
     "metadata": {},
     "output_type": "execute_result"
    }
   ],
   "source": [
    "res.sum()"
   ]
  },
  {
   "cell_type": "markdown",
   "id": "655c5f8c-c7a3-4390-902c-3f518002a21e",
   "metadata": {},
   "source": [
    "Cells below is almost [tutorial](https://pytorch.org/tutorials/beginner/basics/data_tutorial.html) but insead of FashionMNIST, data from MNIST is is loaded."
   ]
  },
  {
   "cell_type": "code",
   "execution_count": 91,
   "id": "440ea4cb-a399-47f4-9ad8-eec9863d0c5d",
   "metadata": {},
   "outputs": [],
   "source": [
    "import torch\n",
    "from torch.utils.data import Dataset\n",
    "from torchvision import datasets\n",
    "from torchvision.transforms import ToTensor\n",
    "\n",
    "import matplotlib.pyplot as plt"
   ]
  },
  {
   "cell_type": "code",
   "execution_count": 98,
   "id": "3ba2044c-1635-4c88-9c0e-43d93c4253ed",
   "metadata": {
    "tags": []
   },
   "outputs": [],
   "source": [
    "training_data = datasets.MNIST(\n",
    "    root=\"data\",\n",
    "    train=True,\n",
    "    download=True,\n",
    "    transform=ToTensor()\n",
    ")\n",
    "test_data = datasets.MNIST(\n",
    "    root=\"data\",\n",
    "    train=False,\n",
    "    download=True,\n",
    "    transform=ToTensor()\n",
    ")"
   ]
  },
  {
   "cell_type": "code",
   "execution_count": 125,
   "id": "145d897b-00fd-4737-99a5-c293baa1b5b7",
   "metadata": {},
   "outputs": [
    {
     "name": "stdout",
     "output_type": "stream",
     "text": [
      "1\n"
     ]
    },
    {
     "data": {
      "image/png": "[encoded data removed]",
      "text/plain": [
       "<Figure size 500x500 with 1 Axes>"
      ]
     },
     "metadata": {},
     "output_type": "display_data"
    }
   ],
   "source": [
    "# preview data by choosing i-th element form dataset:\n",
    "ith = 3\n",
    "figure = plt.figure(figsize=(5, 5))\n",
    "img, label = training_data[ith]\n",
    "print(label)\n",
    "plt.imshow(img.squeeze(), cmap=\"gray\") # .squeeze() like in numpy it removed dims =1\n",
    "plt.show()"
   ]
  },
  {
   "cell_type": "code",
   "execution_count": 130,
   "id": "3ac36e35-f991-475d-bbfc-2d828bf8d577",
   "metadata": {},
   "outputs": [],
   "source": [
    "# dictionary of strings, in code below str(label) would also work, but for categorical data e.g. FashionMNIST dict is useful.\n",
    "labels_map = {i : str(i) for i in range(10)}"
   ]
  },
  {
   "cell_type": "code",
   "execution_count": 119,
   "id": "fcc20a38-e103-424a-92f4-e2d742aeab44",
   "metadata": {},
   "outputs": [
    {
     "data": {
      "image/png": "[encoded data removed]",
      "text/plain": [
       "<Figure size 800x800 with 9 Axes>"
      ]
     },
     "metadata": {},
     "output_type": "display_data"
    }
   ],
   "source": [
    "# example of accessing pairs of (image,lable)\n",
    "figure = plt.figure(figsize=(8, 8))\n",
    "cols, rows = 3, 3\n",
    "for i in range(1, cols * rows + 1):\n",
    "    sample_idx = torch.randint(len(training_data), size=(1,)).item()\n",
    "    img, label = training_data[sample_idx]\n",
    "    figure.add_subplot(rows, cols, i)\n",
    "    plt.title(labels_map[label])\n",
    "    plt.axis(\"off\")\n",
    "    plt.imshow(img.squeeze(), cmap=\"gray\")\n",
    "plt.show()"
   ]
  },
  {
   "cell_type": "code",
   "execution_count": null,
   "id": "51aa17eb-d53c-438f-9cd0-e34113324dc6",
   "metadata": {},
   "outputs": [],
   "source": []
  }
 ],
 "metadata": {
  "kernelspec": {
   "display_name": "Python 3 (ipykernel)",
   "language": "python",
   "name": "python3"
  },
  "language_info": {
   "codemirror_mode": {
    "name": "ipython",
    "version": 3
   },
   "file_extension": ".py",
   "mimetype": "text/x-python",
   "name": "python",
   "nbconvert_exporter": "python",
   "pygments_lexer": "ipython3",
   "version": "3.9.12"
  }
 },
 "nbformat": 4,
 "nbformat_minor": 5
}
