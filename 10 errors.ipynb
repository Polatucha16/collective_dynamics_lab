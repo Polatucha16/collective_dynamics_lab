{
 "cells": [
  {
   "cell_type": "markdown",
   "id": "bed7b8d3-6d7b-4e91-b268-23737486af96",
   "metadata": {},
   "source": [
    "# Errors from projects"
   ]
  },
  {
   "cell_type": "markdown",
   "id": "3b997bd9-8678-48ce-adbf-36124253c4f9",
   "metadata": {},
   "source": [
    "## Parameters, arguments - meh, who need them ?!"
   ]
  },
  {
   "cell_type": "code",
   "execution_count": 6,
   "id": "2036c6ee-a3df-4cca-a791-1439cdc4d4f1",
   "metadata": {},
   "outputs": [],
   "source": [
    "### A dictionary with some data\n",
    "buba = {1:7, 2:\"To alkochol, największa trucizna\"}\n",
    "\n",
    "def bad_func():\n",
    "    buba[2] = \"To napewno sprawka doktora Plamy\""
   ]
  },
  {
   "cell_type": "code",
   "execution_count": 7,
   "id": "36273fdb-2929-454e-a6f0-3324aeb5a297",
   "metadata": {},
   "outputs": [
    {
     "name": "stdout",
     "output_type": "stream",
     "text": [
      "{1: 7, 2: 'To alkochol, największa trucizna'}\n",
      "{1: 7, 2: 'To napewno sprawka doktora Plamy'}\n"
     ]
    }
   ],
   "source": [
    "print(buba)\n",
    "bad_func()\n",
    "print(buba)"
   ]
  },
  {
   "cell_type": "code",
   "execution_count": null,
   "id": "6ba482c0-99bd-470c-94f2-c30971233a75",
   "metadata": {},
   "outputs": [],
   "source": [
    "# fix it:\n",
    "def ...(..., ...,  . . ., ...):\n",
    "    \"\"\" Returns ...\n",
    "        Parameters: ... - ... \n",
    "                    ... - ...\n",
    "        \"\"\"\n",
    "    ...\n",
    "    return ..."
   ]
  },
  {
   "cell_type": "markdown",
   "id": "6d5bc211-b499-4947-9c6f-64b0071d2243",
   "metadata": {},
   "source": [
    "## Searching and replacing in table / data frame\n",
    "custom table obtained form dataframe has 'United States', becasue of errors we know that in **Geopandas package**\\\n",
    "there is *'United States of America'* and not *'United states'*, maybe becasue there are many \"United states of ...\" \n",
    "\n",
    "1. United Mexican States,\n",
    "2. United States of Belgium,\n",
    "3. Republic of the United States of Brazil \n",
    "4. United States of Brazil\n",
    "5. United States of Central America \n",
    "6. United States of Colombia\n",
    "7. United States of Indonesia\n",
    "8. United States of the Ionian Islands\n",
    "9. United State of Saurashtra\n",
    "10. United States of Stellaland\n",
    "11. United State of Travancore and Cochin\n",
    "12. United States of Venezuela\n",
    "13. United Arab States\n",
    "\n",
    "our goal is tho change *'United states'* to *'United States of America'*"
   ]
  },
  {
   "cell_type": "markdown",
   "id": "dce9454c-75fc-4269-9edc-e9c682294296",
   "metadata": {},
   "source": [
    "### You can view everyting and search for 'united states' in a loop:"
   ]
  },
  {
   "cell_type": "code",
   "execution_count": 35,
   "id": "f706df2f-4129-43f9-8eaf-09a26863e7f1",
   "metadata": {},
   "outputs": [
    {
     "name": "stdout",
     "output_type": "stream",
     "text": [
      "[[0, 5, 'a'], [1, 6, 'b'], [2, 7, 'c'], [3, 8, 'United States'], [4, 9, 'e']]\n",
      "[[0, 5, 'a'], [1, 6, 'b'], [2, 7, 'c'], [3, 8, 'United States of America'], [4, 9, 'e']]\n"
     ]
    }
   ],
   "source": [
    "whatever_table = [[0,5,'a'],[1,6,'b'],[2,7,'c'],[3,8,'United States'],[4,9,'e']]\n",
    "\n",
    "print(whatever_table)\n",
    "\n",
    "for i in range(len(whatever_table)):\n",
    "    for j in range(len(whatever_table[i])):\n",
    "        if whatever_table[i][j] == 'United States':\n",
    "            whatever_table[i][j] = 'United States of America'\n",
    "            \n",
    "print(whatever_table)"
   ]
  },
  {
   "cell_type": "markdown",
   "id": "ba4883c6-5492-4bd9-b6ae-776f6292e83d",
   "metadata": {},
   "source": [
    "### but you shoudn't"
   ]
  },
  {
   "cell_type": "code",
   "execution_count": 40,
   "id": "639a38f2-45cf-4594-b813-742e00e12e29",
   "metadata": {},
   "outputs": [
    {
     "data": {
      "text/html": [
       "<div>\n",
       "<style scoped>\n",
       "    .dataframe tbody tr th:only-of-type {\n",
       "        vertical-align: middle;\n",
       "    }\n",
       "\n",
       "    .dataframe tbody tr th {\n",
       "        vertical-align: top;\n",
       "    }\n",
       "\n",
       "    .dataframe thead th {\n",
       "        text-align: right;\n",
       "    }\n",
       "</style>\n",
       "<table border=\"1\" class=\"dataframe\">\n",
       "  <thead>\n",
       "    <tr style=\"text-align: right;\">\n",
       "      <th></th>\n",
       "      <th>no</th>\n",
       "      <th>mark</th>\n",
       "      <th>letter</th>\n",
       "    </tr>\n",
       "  </thead>\n",
       "  <tbody>\n",
       "    <tr>\n",
       "      <th>0</th>\n",
       "      <td>0</td>\n",
       "      <td>5</td>\n",
       "      <td>a</td>\n",
       "    </tr>\n",
       "    <tr>\n",
       "      <th>1</th>\n",
       "      <td>1</td>\n",
       "      <td>6</td>\n",
       "      <td>b</td>\n",
       "    </tr>\n",
       "    <tr>\n",
       "      <th>2</th>\n",
       "      <td>2</td>\n",
       "      <td>7</td>\n",
       "      <td>c</td>\n",
       "    </tr>\n",
       "    <tr>\n",
       "      <th>3</th>\n",
       "      <td>3</td>\n",
       "      <td>8</td>\n",
       "      <td>United States</td>\n",
       "    </tr>\n",
       "    <tr>\n",
       "      <th>4</th>\n",
       "      <td>4</td>\n",
       "      <td>9</td>\n",
       "      <td>e</td>\n",
       "    </tr>\n",
       "  </tbody>\n",
       "</table>\n",
       "</div>"
      ],
      "text/plain": [
       "   no  mark         letter\n",
       "0   0     5              a\n",
       "1   1     6              b\n",
       "2   2     7              c\n",
       "3   3     8  United States\n",
       "4   4     9              e"
      ]
     },
     "metadata": {},
     "output_type": "display_data"
    },
    {
     "data": {
      "text/html": [
       "<div>\n",
       "<style scoped>\n",
       "    .dataframe tbody tr th:only-of-type {\n",
       "        vertical-align: middle;\n",
       "    }\n",
       "\n",
       "    .dataframe tbody tr th {\n",
       "        vertical-align: top;\n",
       "    }\n",
       "\n",
       "    .dataframe thead th {\n",
       "        text-align: right;\n",
       "    }\n",
       "</style>\n",
       "<table border=\"1\" class=\"dataframe\">\n",
       "  <thead>\n",
       "    <tr style=\"text-align: right;\">\n",
       "      <th></th>\n",
       "      <th>no</th>\n",
       "      <th>mark</th>\n",
       "      <th>letter</th>\n",
       "    </tr>\n",
       "  </thead>\n",
       "  <tbody>\n",
       "    <tr>\n",
       "      <th>0</th>\n",
       "      <td>0</td>\n",
       "      <td>5</td>\n",
       "      <td>a</td>\n",
       "    </tr>\n",
       "    <tr>\n",
       "      <th>1</th>\n",
       "      <td>1</td>\n",
       "      <td>6</td>\n",
       "      <td>b</td>\n",
       "    </tr>\n",
       "    <tr>\n",
       "      <th>2</th>\n",
       "      <td>2</td>\n",
       "      <td>7</td>\n",
       "      <td>c</td>\n",
       "    </tr>\n",
       "    <tr>\n",
       "      <th>3</th>\n",
       "      <td>3</td>\n",
       "      <td>8</td>\n",
       "      <td>United States of America</td>\n",
       "    </tr>\n",
       "    <tr>\n",
       "      <th>4</th>\n",
       "      <td>4</td>\n",
       "      <td>9</td>\n",
       "      <td>e</td>\n",
       "    </tr>\n",
       "  </tbody>\n",
       "</table>\n",
       "</div>"
      ],
      "text/plain": [
       "   no  mark                    letter\n",
       "0   0     5                         a\n",
       "1   1     6                         b\n",
       "2   2     7                         c\n",
       "3   3     8  United States of America\n",
       "4   4     9                         e"
      ]
     },
     "execution_count": 40,
     "metadata": {},
     "output_type": "execute_result"
    }
   ],
   "source": [
    "import pandas as pd\n",
    "\n",
    "df = pd.DataFrame({'no': [0, 1, 2, 3, 4],\n",
    "                   'mark': [5, 6, 7, 8, 9],\n",
    "                   'letter': ['a', 'b', 'c', 'United States', 'e']})\n",
    "display(df)\n",
    "df.replace(to_replace='United States', value='United States of America')"
   ]
  },
  {
   "cell_type": "markdown",
   "id": "e18db220-1f9c-44fe-9658-2e9dad02ffcc",
   "metadata": {},
   "source": [
    "## Importing table from internet site\n",
    "Let say you want to import some particular table from site with more than one table, example:\\\n",
    "[List of Olympic records in athletics](https://en.wikipedia.org/wiki/List_of_Olympic_records_in_athletics)\\\n",
    "you can import tables and point to the one that you want to work with:"
   ]
  },
  {
   "cell_type": "code",
   "execution_count": 102,
   "id": "5484acaf-9bbd-44ef-8579-629f6c8ceb66",
   "metadata": {},
   "outputs": [
    {
     "name": "stdout",
     "output_type": "stream",
     "text": [
      "There are 9 tables pulled in a <class 'list'> variable called url_tables from given url. Head of the second is:\n"
     ]
    },
    {
     "data": {
      "text/html": [
       "<div>\n",
       "<style scoped>\n",
       "    .dataframe tbody tr th:only-of-type {\n",
       "        vertical-align: middle;\n",
       "    }\n",
       "\n",
       "    .dataframe tbody tr th {\n",
       "        vertical-align: top;\n",
       "    }\n",
       "\n",
       "    .dataframe thead th {\n",
       "        text-align: right;\n",
       "    }\n",
       "</style>\n",
       "<table border=\"1\" class=\"dataframe\">\n",
       "  <thead>\n",
       "    <tr style=\"text-align: right;\">\n",
       "      <th></th>\n",
       "      <th>Event</th>\n",
       "      <th>Record</th>\n",
       "      <th>Athlete(s)</th>\n",
       "      <th>Nation</th>\n",
       "      <th>Games</th>\n",
       "      <th>Date</th>\n",
       "      <th>Ref(s)</th>\n",
       "    </tr>\n",
       "  </thead>\n",
       "  <tbody>\n",
       "    <tr>\n",
       "      <th>0</th>\n",
       "      <td>100 metres</td>\n",
       "      <td>10.61</td>\n",
       "      <td>Elaine Thompson Herah</td>\n",
       "      <td>Jamaica (JAM)</td>\n",
       "      <td>2020 Tokyo</td>\n",
       "      <td>July 31, 2021</td>\n",
       "      <td>[32]</td>\n",
       "    </tr>\n",
       "    <tr>\n",
       "      <th>1</th>\n",
       "      <td>200 metres</td>\n",
       "      <td>♦21.34</td>\n",
       "      <td>Florence Griffith Joyner</td>\n",
       "      <td>United States (USA)</td>\n",
       "      <td>1988 Seoul</td>\n",
       "      <td>September 29, 1988</td>\n",
       "      <td>[33][34]</td>\n",
       "    </tr>\n",
       "    <tr>\n",
       "      <th>2</th>\n",
       "      <td>400 metres</td>\n",
       "      <td>48.25</td>\n",
       "      <td>Marie-José Pérec</td>\n",
       "      <td>France (FRA)</td>\n",
       "      <td>1996 Atlanta</td>\n",
       "      <td>July 29, 1996</td>\n",
       "      <td>[35]</td>\n",
       "    </tr>\n",
       "    <tr>\n",
       "      <th>3</th>\n",
       "      <td>800 metres</td>\n",
       "      <td>1:53.43</td>\n",
       "      <td>Nadezhda Olizarenko</td>\n",
       "      <td>Soviet Union (URS)</td>\n",
       "      <td>1980 Moscow</td>\n",
       "      <td>July 27, 1980</td>\n",
       "      <td>[35]</td>\n",
       "    </tr>\n",
       "    <tr>\n",
       "      <th>4</th>\n",
       "      <td>1,500 metres</td>\n",
       "      <td>3:53.11</td>\n",
       "      <td>Faith Kipyegon</td>\n",
       "      <td>Kenya (KEN)</td>\n",
       "      <td>2020 Tokyo</td>\n",
       "      <td>August 6, 2021</td>\n",
       "      <td>[36]</td>\n",
       "    </tr>\n",
       "  </tbody>\n",
       "</table>\n",
       "</div>"
      ],
      "text/plain": [
       "          Event   Record                Athlete(s)               Nation  \\\n",
       "0    100 metres    10.61     Elaine Thompson Herah        Jamaica (JAM)   \n",
       "1    200 metres   ♦21.34  Florence Griffith Joyner  United States (USA)   \n",
       "2    400 metres    48.25          Marie-José Pérec         France (FRA)   \n",
       "3    800 metres  1:53.43       Nadezhda Olizarenko   Soviet Union (URS)   \n",
       "4  1,500 metres  3:53.11            Faith Kipyegon          Kenya (KEN)   \n",
       "\n",
       "          Games                Date    Ref(s)  \n",
       "0    2020 Tokyo       July 31, 2021      [32]  \n",
       "1    1988 Seoul  September 29, 1988  [33][34]  \n",
       "2  1996 Atlanta       July 29, 1996      [35]  \n",
       "3   1980 Moscow       July 27, 1980      [35]  \n",
       "4    2020 Tokyo      August 6, 2021      [36]  "
      ]
     },
     "execution_count": 102,
     "metadata": {},
     "output_type": "execute_result"
    }
   ],
   "source": [
    "import pandas as pd\n",
    "import requests \n",
    "\n",
    "url = \"http://en.wikipedia.org/wiki/List_of_Olympic_records_in_athletics\"\n",
    "resp = requests.get(url)\n",
    "url_tables = pd.read_html(resp.text)\n",
    "\n",
    "print(f'There are {len(url_tables)} tables pulled in a {type(url_tables)} variable called url_tables from given url. Head of the second is:')\n",
    "url_tables[1].head()"
   ]
  },
  {
   "cell_type": "markdown",
   "id": "9cb85881-cfd6-4bd6-8c81-7baccae6aff8",
   "metadata": {},
   "source": [
    "Let say you want to work with the second, so you can select it like above using: url_tables[1].\n",
    "But imagine wikipedia site was changed and the order of tables has been switched then your program is not working properly.\n",
    "There are at least two solutions to this problem:\n",
    "1. Pull table that you want a little bit more robustly than the order. (further problems: url changes, table update bricks our choice anyway and so on ... )\n",
    "2. Save the table in jupyter notebook or in a file."
   ]
  },
  {
   "cell_type": "markdown",
   "id": "80ef0ad1-18a9-4513-be9b-96205cac06ee",
   "metadata": {},
   "source": [
    "### 1. Choose table from a site.\n",
    "if you press \"inspect\" in browser you can open DOM Tree (HTML Document Object Model). Sometimes tables have names like in this example:\\\n",
    "\"List of women's Olympic records in athletics\".\n",
    "Now from tables you pulled from url you can select one with that name:"
   ]
  },
  {
   "cell_type": "code",
   "execution_count": 87,
   "id": "57612444-0eaa-4ca0-b939-839de7e9811a",
   "metadata": {},
   "outputs": [],
   "source": [
    "# ...[0] at the end removes the outside list. We can hope there is only one table with a particular name on a site (you should check it, how to check it?)\n",
    "named_url_table = pd.read_html(url, match=\"List of women's Olympic records in athletics\")[0]"
   ]
  },
  {
   "cell_type": "code",
   "execution_count": 93,
   "id": "13373d1d-f7b8-417a-911d-6ce226b8c9d6",
   "metadata": {},
   "outputs": [
    {
     "data": {
      "text/html": [
       "<div>\n",
       "<style scoped>\n",
       "    .dataframe tbody tr th:only-of-type {\n",
       "        vertical-align: middle;\n",
       "    }\n",
       "\n",
       "    .dataframe tbody tr th {\n",
       "        vertical-align: top;\n",
       "    }\n",
       "\n",
       "    .dataframe thead th {\n",
       "        text-align: right;\n",
       "    }\n",
       "</style>\n",
       "<table border=\"1\" class=\"dataframe\">\n",
       "  <thead>\n",
       "    <tr style=\"text-align: right;\">\n",
       "      <th></th>\n",
       "      <th>Event</th>\n",
       "      <th>Record</th>\n",
       "      <th>Athlete(s)</th>\n",
       "      <th>Nation</th>\n",
       "      <th>Games</th>\n",
       "      <th>Date</th>\n",
       "      <th>Ref(s)</th>\n",
       "    </tr>\n",
       "  </thead>\n",
       "  <tbody>\n",
       "    <tr>\n",
       "      <th>0</th>\n",
       "      <td>100 metres</td>\n",
       "      <td>10.61</td>\n",
       "      <td>Elaine Thompson Herah</td>\n",
       "      <td>Jamaica (JAM)</td>\n",
       "      <td>2020 Tokyo</td>\n",
       "      <td>July 31, 2021</td>\n",
       "      <td>[32]</td>\n",
       "    </tr>\n",
       "    <tr>\n",
       "      <th>1</th>\n",
       "      <td>200 metres</td>\n",
       "      <td>♦21.34</td>\n",
       "      <td>Florence Griffith Joyner</td>\n",
       "      <td>United States (USA)</td>\n",
       "      <td>1988 Seoul</td>\n",
       "      <td>September 29, 1988</td>\n",
       "      <td>[33][34]</td>\n",
       "    </tr>\n",
       "    <tr>\n",
       "      <th>2</th>\n",
       "      <td>400 metres</td>\n",
       "      <td>48.25</td>\n",
       "      <td>Marie-José Pérec</td>\n",
       "      <td>France (FRA)</td>\n",
       "      <td>1996 Atlanta</td>\n",
       "      <td>July 29, 1996</td>\n",
       "      <td>[35]</td>\n",
       "    </tr>\n",
       "    <tr>\n",
       "      <th>3</th>\n",
       "      <td>800 metres</td>\n",
       "      <td>1:53.43</td>\n",
       "      <td>Nadezhda Olizarenko</td>\n",
       "      <td>Soviet Union (URS)</td>\n",
       "      <td>1980 Moscow</td>\n",
       "      <td>July 27, 1980</td>\n",
       "      <td>[35]</td>\n",
       "    </tr>\n",
       "    <tr>\n",
       "      <th>4</th>\n",
       "      <td>1,500 metres</td>\n",
       "      <td>3:53.11</td>\n",
       "      <td>Faith Kipyegon</td>\n",
       "      <td>Kenya (KEN)</td>\n",
       "      <td>2020 Tokyo</td>\n",
       "      <td>August 6, 2021</td>\n",
       "      <td>[36]</td>\n",
       "    </tr>\n",
       "  </tbody>\n",
       "</table>\n",
       "</div>"
      ],
      "text/plain": [
       "          Event   Record                Athlete(s)               Nation  \\\n",
       "0    100 metres    10.61     Elaine Thompson Herah        Jamaica (JAM)   \n",
       "1    200 metres   ♦21.34  Florence Griffith Joyner  United States (USA)   \n",
       "2    400 metres    48.25          Marie-José Pérec         France (FRA)   \n",
       "3    800 metres  1:53.43       Nadezhda Olizarenko   Soviet Union (URS)   \n",
       "4  1,500 metres  3:53.11            Faith Kipyegon          Kenya (KEN)   \n",
       "\n",
       "          Games                Date    Ref(s)  \n",
       "0    2020 Tokyo       July 31, 2021      [32]  \n",
       "1    1988 Seoul  September 29, 1988  [33][34]  \n",
       "2  1996 Atlanta       July 29, 1996      [35]  \n",
       "3   1980 Moscow       July 27, 1980      [35]  \n",
       "4    2020 Tokyo      August 6, 2021      [36]  "
      ]
     },
     "execution_count": 93,
     "metadata": {},
     "output_type": "execute_result"
    }
   ],
   "source": [
    "named_url_table.head()"
   ]
  },
  {
   "cell_type": "markdown",
   "id": "40f10cf0-f979-4898-82cc-5ecc0e70d4f0",
   "metadata": {},
   "source": [
    "On other occasion table can have id <- thing in a html DOM and so on. More here:\\\n",
    "[Scrape Table from Website](https://pandas.pydata.org/docs/reference/api/pandas.read_html.html)"
   ]
  },
  {
   "cell_type": "code",
   "execution_count": 110,
   "id": "65041da9-aede-419a-9ee0-fa86c2031deb",
   "metadata": {},
   "outputs": [
    {
     "name": "stdout",
     "output_type": "stream",
     "text": [
      "On the page http://en.wikipedia.org/wiki/List_of_Olympic_records_in_athletics there are 3 <table class=\"wikitable sortable plainrowheaders\">  tables.\n"
     ]
    }
   ],
   "source": [
    "# another pull for one who know html you can use html attributes if for example table has unique id it can be pulled with id.\n",
    "another_named_url_table = pd.read_html(url, attrs={'class':'wikitable sortable plainrowheaders'})\n",
    "print(f'On the page {url} there are {len(another_named_url_table)} <table class=\"wikitable sortable plainrowheaders\">  tables.')"
   ]
  },
  {
   "cell_type": "markdown",
   "id": "22dac0cd-3def-4afd-9293-c21e8cd0a5cf",
   "metadata": {},
   "source": [
    "### 2. Save next to notebook.\n",
    "Save your_data_frame with \n",
    "```python\n",
    "your_data_frame.to_csv('your_data_frame.csv')\n",
    "```\n",
    "comand, and send with jupyter project."
   ]
  },
  {
   "cell_type": "code",
   "execution_count": 92,
   "id": "2bcbb448-602f-4fcf-a84b-46f1cade3324",
   "metadata": {},
   "outputs": [],
   "source": [
    "named_url_table.to_csv('named_url_table.csv', index=False)"
   ]
  },
  {
   "cell_type": "code",
   "execution_count": null,
   "id": "76412440-a532-417b-8386-bb3490146fa5",
   "metadata": {},
   "outputs": [],
   "source": []
  }
 ],
 "metadata": {
  "kernelspec": {
   "display_name": "Python 3 (ipykernel)",
   "language": "python",
   "name": "python3"
  },
  "language_info": {
   "codemirror_mode": {
    "name": "ipython",
    "version": 3
   },
   "file_extension": ".py",
   "mimetype": "text/x-python",
   "name": "python",
   "nbconvert_exporter": "python",
   "pygments_lexer": "ipython3",
   "version": "3.9.12"
  }
 },
 "nbformat": 4,
 "nbformat_minor": 5
}
