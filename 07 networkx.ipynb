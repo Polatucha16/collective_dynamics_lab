{
 "cells": [
  {
   "cell_type": "markdown",
   "id": "43b2869c-1804-4a60-8243-43cc4d9aca8e",
   "metadata": {},
   "source": [
    "### NetworkX \n",
    "networkx gives us many tools to work with graphs - network of nodes."
   ]
  },
  {
   "cell_type": "markdown",
   "id": "dda8405e-a6cd-420a-a9e4-47ecf2b35ba8",
   "metadata": {
    "tags": []
   },
   "source": [
    "### Creating a graph\n",
    "we import networkx library like this:"
   ]
  },
  {
   "cell_type": "code",
   "execution_count": 1,
   "id": "6d94fb49-04f4-4c7d-a3f7-697236c86a7a",
   "metadata": {},
   "outputs": [],
   "source": [
    "import networkx as nx"
   ]
  },
  {
   "cell_type": "markdown",
   "id": "eec4dbb6-4be3-490a-af35-526d582c9ce0",
   "metadata": {},
   "source": [
    "First we have to have a name for our graph.\n",
    "Notice the uppercase first letter, Graph follow CapWords naming convention becasue Graph is a class in nx.\n",
    "(This PEP8 holds more info on style and naming conventions)"
   ]
  },
  {
   "cell_type": "code",
   "execution_count": 2,
   "id": "a522e6cc-8eeb-4839-ab8f-b3a1ca724d32",
   "metadata": {},
   "outputs": [],
   "source": [
    "G = nx.Graph()    # creates empty graph named G"
   ]
  },
  {
   "cell_type": "markdown",
   "id": "030cdbc9-351b-4674-b898-e54424b2ef91",
   "metadata": {
    "tags": []
   },
   "source": [
    "#### Adding nodes and edges \"manually\"\n",
    "Using two methods of ```Graph``` class: ```.add_node``` and ```.add_edge```."
   ]
  },
  {
   "cell_type": "code",
   "execution_count": 7,
   "id": "a242181d-648e-4cb7-9f96-0ac03234f949",
   "metadata": {},
   "outputs": [],
   "source": [
    "# lets add two Nodes named 'a' and \"b\" (strings):\n",
    "G.add_node('a')\n",
    "G.add_node('b')\n",
    "\n",
    "# now we can connect them with an edge:\n",
    "G.add_edge('a', 'b')"
   ]
  },
  {
   "cell_type": "markdown",
   "id": "9a283e8b-5435-4116-92f7-f05d1fc5eefe",
   "metadata": {},
   "source": [
    "#### Viewing a graph\n",
    "nx have few ways to view the Graph data: ```nodes```, ```edges```, ```adj``` and ```degree```"
   ]
  },
  {
   "cell_type": "code",
   "execution_count": 39,
   "id": "9923c297-7e9b-4580-82eb-e3e3b26762bc",
   "metadata": {},
   "outputs": [
    {
     "name": "stdout",
     "output_type": "stream",
     "text": [
      "nodes  = ['a', 'b']\n",
      "edges  = [('a', 'b')]\n",
      "adj    = {'a': {'b': {}}, 'b': {'a': {}}}\n",
      "degree = [('a', 1), ('b', 1)]\n"
     ]
    }
   ],
   "source": [
    "print(f\"nodes  = {G.nodes}\")\n",
    "print(f\"edges  = {G.edges}\")\n",
    "print(f\"adj    = {G.adj}\")\n",
    "print(f\"degree = {G.degree}\")"
   ]
  },
  {
   "cell_type": "markdown",
   "id": "75c7aba3-e186-4fc5-a5e2-b215980ebc46",
   "metadata": {
    "tags": []
   },
   "source": [
    "#### Using one of nx generators"
   ]
  },
  {
   "cell_type": "code",
   "execution_count": null,
   "id": "def1db5b-b544-4ce9-b716-352295b76b2f",
   "metadata": {},
   "outputs": [],
   "source": []
  }
 ],
 "metadata": {
  "kernelspec": {
   "display_name": "Python 3 (ipykernel)",
   "language": "python",
   "name": "python3"
  },
  "language_info": {
   "codemirror_mode": {
    "name": "ipython",
    "version": 3
   },
   "file_extension": ".py",
   "mimetype": "text/x-python",
   "name": "python",
   "nbconvert_exporter": "python",
   "pygments_lexer": "ipython3",
   "version": "3.9.12"
  }
 },
 "nbformat": 4,
 "nbformat_minor": 5
}
