{
 "cells": [
  {
   "cell_type": "code",
   "execution_count": null,
   "id": "f646990b-ff7c-45e2-8317-86541f3a570c",
   "metadata": {
    "tags": []
   },
   "outputs": [],
   "source": [
    "i, j = 3, 5 #assign more than one variable in one line\n",
    "print('Hello world')"
   ]
  },
  {
   "cell_type": "code",
   "execution_count": null,
   "id": "75350e0b-13e1-4756-9e55-328863099362",
   "metadata": {
    "tags": []
   },
   "outputs": [],
   "source": [
    "if i<j:\n",
    "    print(f'Variable i={i} is smaller than j={j}')"
   ]
  },
  {
   "cell_type": "code",
   "execution_count": null,
   "id": "fbafb32a-e81e-4267-8d22-aef63f3549ac",
   "metadata": {
    "tags": []
   },
   "outputs": [],
   "source": [
    "i, j = 3, 5\n",
    "while i <= j:\n",
    "    print(i)\n",
    "    i += 1\n",
    "print(f\"Now variables are: i={i}, j={j}\")"
   ]
  },
  {
   "cell_type": "code",
   "execution_count": null,
   "id": "37fc4d96-4570-4a9f-9b2c-47ed93707ff2",
   "metadata": {
    "tags": []
   },
   "outputs": [],
   "source": [
    "# data types\n",
    "\n",
    "print(type(5==5))\n",
    "print(type(5))\n",
    "print(type(5.5))\n",
    "print(type('i,j,5'))\n",
    "print(type([i,j,5]))\n",
    "print(type((i,j,5)))\n",
    "print(type({i,j,5})) # in sets check what is hashable (what does it mean)\n",
    "print(type({1:i,2:j,3:5})) "
   ]
  },
  {
   "cell_type": "code",
   "execution_count": null,
   "id": "6e93d4fe-b365-4bee-8767-5625c8e82a37",
   "metadata": {
    "tags": []
   },
   "outputs": [],
   "source": [
    "# notice the space after the comma\n",
    "some_list = [5==5, 5, 5.5, 'i,j,5', [i,j,5], {i,j,5}, {1:i,2:j,3:5}]\n",
    "for elem in some_list:\n",
    "    print(type(elem))"
   ]
  },
  {
   "cell_type": "code",
   "execution_count": 83,
   "id": "957a7885-dc69-480c-88e5-64a0a87dccfa",
   "metadata": {
    "tags": []
   },
   "outputs": [],
   "source": [
    "# int.__dict__\n",
    "# int(2**8).bit_length()\n",
    "# int(5).bit_length()\n",
    "\n",
    "# list([4,5]).__dict__\n",
    "# #list.__dict__\n",
    "# #[0,1,5].__len__() == len([0,1,5])"
   ]
  },
  {
   "cell_type": "code",
   "execution_count": 118,
   "id": "a5b378a7-1d0e-4e27-8c5f-6975d45c4a6a",
   "metadata": {
    "tags": []
   },
   "outputs": [
    {
     "name": "stdout",
     "output_type": "stream",
     "text": [
      "True\n",
      "True\n",
      "False\n",
      "False\n",
      "True\n",
      "True\n",
      "False\n",
      "False\n",
      "\n",
      "\n",
      "True\n",
      "True\n",
      "(True,)\n"
     ]
    }
   ],
   "source": [
    "#compare:\n",
    "true_or_false_list = [\n",
    "    False.__and__(True) == False or True,\n",
    "    (False.__and__(True)) == False or True,\n",
    "    \n",
    "    False.__and__(True) == (False or True),\n",
    "    (False.__and__(True)) == (False or True),\n",
    "    \n",
    "    (False.__and__(True)) == (False.__and__(True)),\n",
    "    (False or True) == (False or True),\n",
    "    \n",
    "    (False.__and__(True)) is (False or True),\n",
    "    (False or True) is False.__and__(True)]\n",
    "for elem in true_or_false_list:\n",
    "    print(elem)\n",
    "    \n",
    "print('\\n')\n",
    "true_or_false_list_2 = [False or True,(False or True),(False or True,)]\n",
    "for elem in true_or_false_list_2:\n",
    "    print(elem)"
   ]
  },
  {
   "cell_type": "code",
   "execution_count": 191,
   "id": "4f32497c-bfd0-4f44-84fb-23b0a985a952",
   "metadata": {},
   "outputs": [
    {
     "name": "stdout",
     "output_type": "stream",
     "text": [
      "(((((True, {1, (6, 7, (7, 0))}), {1, (6, 7, (7, 0))}), {1, (6, 7, (7, 0))}), {1, (6, 7, (7, 0))}), {1, (6, 7, (7, 0))})\n"
     ]
    }
   ],
   "source": [
    "# useless fun fact: python inherit from C maximum 200 nested limit ?\n",
    "# https://gcc.gnu.org/onlinedocs/cpp/Implementation-limits.html\n",
    "nest_level = 5\n",
    "exec('print('+\n",
    "     '('*nest_level+'True or False'+\n",
    "     ',{1,(6,7,(7,0))})'*nest_level+\n",
    "     ')')\n"
   ]
  },
  {
   "cell_type": "code",
   "execution_count": 240,
   "id": "98e7b9d7-4c88-4215-b612-e5a6737c4083",
   "metadata": {},
   "outputs": [
    {
     "name": "stdout",
     "output_type": "stream",
     "text": [
      "[[[[ 0  1  2  3  4]\n",
      "   [ 5  6  7  8  9]]\n",
      "\n",
      "  [[10 11 12 13 14]\n",
      "   [15 16 17 18 19]]]\n",
      "\n",
      "\n",
      " [[[20 21 22 23 24]\n",
      "   [25 26 27 28 29]]\n",
      "\n",
      "  [[30 31 32 33 34]\n",
      "   [35 36 37 38 39]]]\n",
      "\n",
      "\n",
      " [[[40 41 42 43 44]\n",
      "   [45 46 47 48 49]]\n",
      "\n",
      "  [[50 51 52 53 54]\n",
      "   [55 56 57 58 59]]]]\n"
     ]
    },
    {
     "data": {
      "text/plain": [
       "array([[[ 3,  4],\n",
       "        [ 8,  9]],\n",
       "\n",
       "       [[13, 14],\n",
       "        [18, 19]]])"
      ]
     },
     "execution_count": 240,
     "metadata": {},
     "output_type": "execute_result"
    }
   ],
   "source": [
    "# matrix slicing move to intro to numpy\n",
    "import numpy as np\n",
    "arr = np.array([i for i in range(60)]).reshape((3,2,2,5))\n",
    "print(arr)\n",
    "arr[0,:,:,-2:] "
   ]
  },
  {
   "cell_type": "code",
   "execution_count": 242,
   "id": "e64bc533-87b4-4d24-b224-9f55ddeae527",
   "metadata": {},
   "outputs": [
    {
     "data": {
      "text/plain": [
       "array([[0, 1, 2, 3, 4],\n",
       "       [5, 6, 7, 8, 9]])"
      ]
     },
     "execution_count": 242,
     "metadata": {},
     "output_type": "execute_result"
    }
   ],
   "source": [
    "arr[0,0,:,:]"
   ]
  },
  {
   "cell_type": "code",
   "execution_count": null,
   "id": "5f970088-980e-40db-b5c5-be5b2b9982ed",
   "metadata": {},
   "outputs": [],
   "source": []
  }
 ],
 "metadata": {
  "kernelspec": {
   "display_name": "Python 3 (ipykernel)",
   "language": "python",
   "name": "python3"
  },
  "language_info": {
   "codemirror_mode": {
    "name": "ipython",
    "version": 3
   },
   "file_extension": ".py",
   "mimetype": "text/x-python",
   "name": "python",
   "nbconvert_exporter": "python",
   "pygments_lexer": "ipython3",
   "version": "3.9.12"
  }
 },
 "nbformat": 4,
 "nbformat_minor": 5
}
