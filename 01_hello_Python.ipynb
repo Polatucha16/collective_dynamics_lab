{
 "cells": [
  {
   "cell_type": "code",
   "execution_count": 1,
   "id": "f646990b-ff7c-45e2-8317-86541f3a570c",
   "metadata": {
    "tags": []
   },
   "outputs": [
    {
     "name": "stdout",
     "output_type": "stream",
     "text": [
      "Hello world\n"
     ]
    }
   ],
   "source": [
    "i, j = 3, 5 #assign more than one variable in one line\n",
    "print('Hello world')"
   ]
  },
  {
   "cell_type": "code",
   "execution_count": null,
   "id": "75350e0b-13e1-4756-9e55-328863099362",
   "metadata": {
    "tags": []
   },
   "outputs": [],
   "source": [
    "if i<j:\n",
    "    print(f'Variable i={i} is smaller than j={j}')"
   ]
  },
  {
   "cell_type": "code",
   "execution_count": null,
   "id": "fbafb32a-e81e-4267-8d22-aef63f3549ac",
   "metadata": {
    "tags": []
   },
   "outputs": [],
   "source": [
    "i, j = 3, 5\n",
    "while i <= j:\n",
    "    print(i)\n",
    "    i += 1\n",
    "print(f\"Now variables are: i={i}, j={j}\")"
   ]
  },
  {
   "cell_type": "code",
   "execution_count": 5,
   "id": "37fc4d96-4570-4a9f-9b2c-47ed93707ff2",
   "metadata": {
    "tags": []
   },
   "outputs": [
    {
     "name": "stdout",
     "output_type": "stream",
     "text": [
      "<class 'bool'>\n",
      "<class 'int'>\n",
      "<class 'float'>\n",
      "<class 'str'>\n",
      "<class 'list'>\n",
      "<class 'tuple'>\n",
      "<class 'set'>\n",
      "<class 'dict'>\n"
     ]
    }
   ],
   "source": [
    "# data types\n",
    "\n",
    "print(type(5==5))\n",
    "print(type(5))\n",
    "print(type(5.5))\n",
    "print(type('i,j,5'))\n",
    "print(type([i,j,5]))\n",
    "print(type((i,j,5)))\n",
    "print(type({i,j,5}))\n",
    "print(type({1:i,2:j,3:5}))"
   ]
  },
  {
   "cell_type": "code",
   "execution_count": 6,
   "id": "6e93d4fe-b365-4bee-8767-5625c8e82a37",
   "metadata": {},
   "outputs": [
    {
     "name": "stdout",
     "output_type": "stream",
     "text": [
      "<class 'bool'>\n",
      "<class 'int'>\n",
      "<class 'float'>\n",
      "<class 'str'>\n",
      "<class 'list'>\n",
      "<class 'set'>\n",
      "<class 'dict'>\n"
     ]
    }
   ],
   "source": [
    "# notice the space after the comma\n",
    "some_list = [5==5, 5, 5.5, 'i,j,5', [i,j,5], {i,j,5}, {1:i,2:j,3:5}]\n",
    "for elem in some_list:\n",
    "    print(type(elem))"
   ]
  },
  {
   "cell_type": "code",
   "execution_count": 59,
   "id": "957a7885-dc69-480c-88e5-64a0a87dccfa",
   "metadata": {},
   "outputs": [
    {
     "data": {
      "text/plain": [
       "mappingproxy({'__repr__': <slot wrapper '__repr__' of 'bool' objects>,\n",
       "              '__and__': <slot wrapper '__and__' of 'bool' objects>,\n",
       "              '__rand__': <slot wrapper '__rand__' of 'bool' objects>,\n",
       "              '__xor__': <slot wrapper '__xor__' of 'bool' objects>,\n",
       "              '__rxor__': <slot wrapper '__rxor__' of 'bool' objects>,\n",
       "              '__or__': <slot wrapper '__or__' of 'bool' objects>,\n",
       "              '__ror__': <slot wrapper '__ror__' of 'bool' objects>,\n",
       "              '__new__': <function bool.__new__(*args, **kwargs)>,\n",
       "              '__doc__': 'bool(x) -> bool\\n\\nReturns True when the argument x is true, False otherwise.\\nThe builtins True and False are the only two instances of the class bool.\\nThe class bool is a subclass of the class int, and cannot be subclassed.'})"
      ]
     },
     "execution_count": 59,
     "metadata": {},
     "output_type": "execute_result"
    }
   ],
   "source": [
    "bool.__dict__\n",
    "# int(2**8).bit_length()\n",
    "# int(5).bit_length()"
   ]
  },
  {
   "cell_type": "code",
   "execution_count": 58,
   "id": "b16b0a97-2b83-4f59-9e9b-dc099f3030d6",
   "metadata": {},
   "outputs": [
    {
     "data": {
      "text/plain": [
       "True"
      ]
     },
     "execution_count": 58,
     "metadata": {},
     "output_type": "execute_result"
    }
   ],
   "source": [
    "# list([4,5]).__dict__\n",
    "list.__dict__\n",
    "[0,1,5].__len__() == len([0,1,5])"
   ]
  },
  {
   "cell_type": "code",
   "execution_count": 76,
   "id": "a5b378a7-1d0e-4e27-8c5f-6975d45c4a6a",
   "metadata": {},
   "outputs": [
    {
     "name": "stdout",
     "output_type": "stream",
     "text": [
      "True\n",
      "True\n",
      "False\n",
      "False\n",
      "True\n",
      "True\n",
      "False\n",
      "False\n",
      "False\n",
      "False\n",
      "True\n",
      "True\n",
      "False\n",
      "False\n",
      "True\n",
      "True\n"
     ]
    }
   ],
   "source": [
    "#compare:\n",
    "true_or_false_list = [False.__and__(True) == False or True,\n",
    "    (False.__and__(True)) == False or True,\n",
    "    False.__and__(True) == (False or True),\n",
    "    (False.__and__(True)) == (False or True)]\n",
    "for elem1 in true_or_false_list:\n",
    "    "
   ]
  },
  {
   "cell_type": "code",
   "execution_count": null,
   "id": "698ead53-a069-46b4-9008-744d9d87492f",
   "metadata": {},
   "outputs": [],
   "source": []
  }
 ],
 "metadata": {
  "kernelspec": {
   "display_name": "Python 3 (ipykernel)",
   "language": "python",
   "name": "python3"
  },
  "language_info": {
   "codemirror_mode": {
    "name": "ipython",
    "version": 3
   },
   "file_extension": ".py",
   "mimetype": "text/x-python",
   "name": "python",
   "nbconvert_exporter": "python",
   "pygments_lexer": "ipython3",
   "version": "3.9.12"
  }
 },
 "nbformat": 4,
 "nbformat_minor": 5
}
