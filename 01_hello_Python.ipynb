{
 "cells": [
  {
   "cell_type": "code",
   "execution_count": 10,
   "id": "f646990b-ff7c-45e2-8317-86541f3a570c",
   "metadata": {},
   "outputs": [
    {
     "name": "stdout",
     "output_type": "stream",
     "text": [
      "Hello world\n"
     ]
    }
   ],
   "source": [
    "i, j = 3, 5 #assign more than one variable in one line\n",
    "print('Hello world')"
   ]
  },
  {
   "cell_type": "code",
   "execution_count": 6,
   "id": "75350e0b-13e1-4756-9e55-328863099362",
   "metadata": {},
   "outputs": [
    {
     "name": "stdout",
     "output_type": "stream",
     "text": [
      "Variable i=3 is smaller than j=5\n"
     ]
    }
   ],
   "source": [
    "if i<j:\n",
    "    print(f'Variable i={i} is smaller than j={j}')"
   ]
  },
  {
   "cell_type": "code",
   "execution_count": 15,
   "id": "fbafb32a-e81e-4267-8d22-aef63f3549ac",
   "metadata": {
    "tags": []
   },
   "outputs": [
    {
     "name": "stdout",
     "output_type": "stream",
     "text": [
      "3\n",
      "4\n",
      "5\n",
      "Now variables are: i=6, j=5\n"
     ]
    }
   ],
   "source": [
    "i, j = 3, 5\n",
    "while i <= j:\n",
    "    print(i)\n",
    "    i += 1\n",
    "print(f\"Now variables are: i={i}, j={j}\")"
   ]
  },
  {
   "cell_type": "code",
   "execution_count": null,
   "id": "37fc4d96-4570-4a9f-9b2c-47ed93707ff2",
   "metadata": {},
   "outputs": [],
   "source": []
  }
 ],
 "metadata": {
  "kernelspec": {
   "display_name": "Python 3 (ipykernel)",
   "language": "python",
   "name": "python3"
  },
  "language_info": {
   "codemirror_mode": {
    "name": "ipython",
    "version": 3
   },
   "file_extension": ".py",
   "mimetype": "text/x-python",
   "name": "python",
   "nbconvert_exporter": "python",
   "pygments_lexer": "ipython3",
   "version": "3.9.12"
  }
 },
 "nbformat": 4,
 "nbformat_minor": 5
}
