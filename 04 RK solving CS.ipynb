{
 "cells": [
  {
   "cell_type": "code",
   "execution_count": 6,
   "id": "d036db2c-1452-441d-8f66-ed21b22d6995",
   "metadata": {},
   "outputs": [],
   "source": [
    "import numpy as np"
   ]
  },
  {
   "cell_type": "markdown",
   "id": "125c7dd3-90fc-4ee1-b454-e5984db7eaa2",
   "metadata": {
    "tags": []
   },
   "source": [
    "## Main problems in making a simulation:\n",
    "1. In solving CS model with solve_ivp - the main problem is write fast rhs function.\n",
    "2. Solving using solve_ivp\n",
    "3. Making an animation out of data."
   ]
  },
  {
   "cell_type": "markdown",
   "id": "c5f038c3-9426-4b0f-b95e-b29f781c5f84",
   "metadata": {
    "tags": []
   },
   "source": [
    "### 0. Before you start to write your RHS functions.\n",
    "(in this case) it will be better to start with making functions which generate random data inputs\n",
    "(or at least generate one input for testing) to test pieces of your code on every step while you are writing."
   ]
  },
  {
   "cell_type": "code",
   "execution_count": 7,
   "id": "359fa76b-18e0-48ef-8e26-848d4b4273d2",
   "metadata": {},
   "outputs": [
    {
     "data": {
      "text/plain": [
       "array([[ 0.97669977,  0.11809123, -2.04977484, -8.63655605],\n",
       "       [ 0.38019574,  0.24176629,  5.29503583,  1.7389358 ],\n",
       "       [ 0.92324623,  0.31853393, -3.44112077,  6.93315728],\n",
       "       [ 0.26169242,  0.96407925,  2.0779728 ,  2.08053662],\n",
       "       [ 0.31909706,  0.2636498 , -5.06057487, -4.00866318]])"
      ]
     },
     "execution_count": 7,
     "metadata": {},
     "output_type": "execute_result"
    }
   ],
   "source": [
    "from numpy.random import default_rng, SeedSequence\n",
    "\n",
    "### initial condition functions ###\n",
    "def set_random_y0(N, seed, low=0, high=1, velo_st_dev=4):\n",
    "    \"\"\"Produces an initial CS_matrix\"\"\"\n",
    "    rng = default_rng(SeedSequence(seed))\n",
    "    \n",
    "    x_s = rng.uniform(low=low, high=high, size=N) # x coordinates of intial position\n",
    "    y_s = rng.uniform(low=low, high=high, size=N) # y coordinates of intial position\n",
    "\n",
    "    vx_s = velo_st_dev*rng.standard_normal(N) # x coordinates of intial velocity\n",
    "    vy_s = velo_st_dev*rng.standard_normal(N) # y coordinates of intial velocity\n",
    "\n",
    "    y_0 = np.c_[x_s, y_s, vx_s, vy_s] #returns a CS_matrix - initial condition\n",
    "    return y_0\n",
    "set_random_y0(5,1234)"
   ]
  },
  {
   "cell_type": "markdown",
   "id": "48fc7f43-19dc-4558-adf2-0297aedbdb1b",
   "metadata": {
    "tags": []
   },
   "source": [
    "### 1. CS right hand side\n",
    "Model from https://people.mpi-inf.mpg.de/~mehlhorn/SeminarEvolvability/CuckerSmale.pdf \\\n",
    "We are going to write rhs for model in which every bird \"see\" every other bird, hence the equation for the behaviour of $i^{\\text{th}}$ bird is:\n",
    "\\begin{equation}\n",
    "\\begin{split}\n",
    "\\dot{x_i} & = v_i \\\\\n",
    "\\dot{v_i} & = \\sum_j \\eta\\!\\left( \\text{dist}(x_j,x_i)\\right)\\cdot\\left(v_j-v_i\\right)\n",
    "\\end{split}\n",
    "\\end{equation}\n",
    "where $$\\eta(s) = \\frac{K}{(\\sigma^2+s)^\\beta}.$$"
   ]
  },
  {
   "cell_type": "markdown",
   "id": "72541169-af52-4f09-aab2-f4d0f87fbe67",
   "metadata": {},
   "source": [
    "Notice that we are going to solve system of $N \\times 4$ functions.\\\n",
    "We organize data into $N \\times 4$ matrix, every row is a bird which is described by 4 numbers: \n",
    "first two - its position (call it temporarily $x_i$), last two - its velocity (call it temporarily $v_i$). This matrix is an input for the right hand side function.\\\n",
    "solve_ivp solves dy / dt = f(t, y) thus we can imagine we have an equation that looks like:\n",
    "$$\n",
    "\\begin{pmatrix}\n",
    " x_1 & v_1 \\\\\n",
    " x_2 & v_2 \\\\\n",
    " \\vdots & \\vdots \\\\\n",
    " x_N & v_N\n",
    "\\end{pmatrix}'=\\begin{pmatrix}\n",
    " v_1 & \\sum\\eta\\!\\left( \\text{dist}(x_j,x_1)\\right)\\cdot\\left(v_j-v_1\\right) \\\\\n",
    " v_2 & \\sum\\eta\\!\\left( \\text{dist}(x_j,x_2)\\right)\\cdot\\left(v_j-v_2\\right) \\\\\n",
    " \\vdots & \\vdots \\\\\n",
    " v_N & \\sum\\eta\\!\\left( \\text{dist}(x_j,x_N)\\right)\\cdot\\left(v_j-v_N\\right)\n",
    "\\end{pmatrix}\n",
    "$$\n",
    "and we have to construct a function which for the matrix $y = [x\\:v]$ constructs what you see on the right of the equation sign above."
   ]
  },
  {
   "cell_type": "code",
   "execution_count": 8,
   "id": "2da5844c-a94c-4803-8c83-08758e06c69a",
   "metadata": {},
   "outputs": [],
   "source": [
    "\"\"\" Lets define some constants and communication weight (different than in original model for simplicity)\"\"\"\n",
    "N = 5\n",
    "def comm_weight(s):\n",
    "    \"\"\"Communication weight in Cucker-Smale model\"\"\"\n",
    "    return np.float_power(s, -0.8, out=np.zeros_like(s), where=s!=0)"
   ]
  },
  {
   "cell_type": "markdown",
   "id": "135f1c77-a924-4ba1-96dd-02bf8273c19a",
   "metadata": {
    "tags": []
   },
   "source": [
    "#### Why this and what doeas it mean:\n",
    "```python\n",
    ",where=s!=0\n",
    "```\n",
    "The strategy:\n",
    "1. Split function rhs into two: one returns derivatives of position, the second returns the derivaties of velocities,\n",
    "2. In the second using numpy arrays and numpy operations we construct the expression above while the first function(derivative of position) returns second two rows of the input."
   ]
  },
  {
   "cell_type": "code",
   "execution_count": 11,
   "id": "708f5e9c-0a2e-40ed-aaec-1d3479707b2c",
   "metadata": {},
   "outputs": [],
   "source": [
    "from typing import Callable\n",
    "\n",
    "def rhs_func(t: float, y: np.ndarray, mass: np.ndarray, comm_weight: Callable)-> np.ndarray:\n",
    "    \"\"\" The splitting of dx and dv is done here. \n",
    "            t           : independent variable in the ODE\n",
    "            y           : CS_data_point of the shape (N*4,)\n",
    "            mass        : array of \"masses\" we can set that some birds are more important than other\n",
    "            comm_weight : callable 'communication weight' funtion\n",
    "        \"\"\"\n",
    "    # N = len(y)\n",
    "    y = y.reshape(-1,4)    # this is for technical reasons = solve_ivp was not working for me with the .shape =(N, 4) so i'm using .shape=(N*4,)\n",
    "    x_derivatives = rhs_d_pos(y)\n",
    "    y_derivatives = rhs_d_vel(y, mass, comm_weight)\n",
    "    rhs = x_derivatives + y_derivatives\n",
    "    return rhs.ravel()"
   ]
  },
  {
   "cell_type": "markdown",
   "id": "f0f8e334-766d-49f5-9093-06cc974dc86c",
   "metadata": {},
   "source": [
    "We have to define two funtions: rhs_d_pos and rhs_d_vel.\\\n",
    "Another benefit of those functions is that we are back at the shape (n,4)."
   ]
  },
  {
   "cell_type": "code",
   "execution_count": 9,
   "id": "b3951c93-7e1d-469c-be09-2f4d862fc968",
   "metadata": {},
   "outputs": [],
   "source": [
    "\"\"\" return of rhs_d_pos will have the shape as input and compatible with last line rhs_func \"\"\"\n",
    "def rhs_d_pos(y):\n",
    "    u = y.copy()\n",
    "    u[:,0], u[:,1] = 0, 0    # zeroing the position\n",
    "    return u[:,[2,3,0,1]]    # velocities go to the front\n",
    "\n",
    "y_test = set_random_y0(N,1234)\n",
    "# print(y_test) \n",
    "# rhs_d_pos(y_test) # check"
   ]
  },
  {
   "cell_type": "code",
   "execution_count": 13,
   "id": "3110d263-ed1e-48ef-9dda-a27a0540adc3",
   "metadata": {},
   "outputs": [
    {
     "name": "stdout",
     "output_type": "stream",
     "text": [
      "[[ 0.97669977  0.11809123 -2.04977484 -8.63655605]\n",
      " [ 0.38019574  0.24176629  5.29503583  1.7389358 ]\n",
      " [ 0.92324623  0.31853393 -3.44112077  6.93315728]\n",
      " [ 0.26169242  0.96407925  2.0779728   2.08053662]\n",
      " [ 0.31909706  0.2636498  -5.06057487 -4.00866318]]\n"
     ]
    },
    {
     "data": {
      "text/plain": [
       "array([[0., 0., 0., 0.],\n",
       "       [0., 0., 0., 0.],\n",
       "       [0., 0., 0., 0.],\n",
       "       [0., 0., 0., 0.],\n",
       "       [0., 0., 0., 0.]])"
      ]
     },
     "execution_count": 13,
     "metadata": {},
     "output_type": "execute_result"
    }
   ],
   "source": [
    "\"\"\" Now the harder part: rhs_d_vel \"\"\"\n",
    "# start \n",
    "def rhs_d_vel(y, mass=0, comm_weight=0):\n",
    "    vel = y.copy()\n",
    "    vel[:,0], vel[:,1] = 0, 0   # zeroing the position\n",
    "    pos = y.copy()\n",
    "    pos[:,2], pos[:,3] = 0, 0   # zeroing the velocity\n",
    "    result = np.zeros(y.shape)  # place for the result\n",
    "    \n",
    "    # creating list of matricies of differences .shape=(N,N,4)\n",
    "    \n",
    "    \n",
    "    return result\n",
    "    \n",
    "print(y_test) \n",
    "rhs_d_vel(y_test) # check"
   ]
  },
  {
   "cell_type": "code",
   "execution_count": 47,
   "id": "4773d2df-96ac-4bb5-a2fa-bfe12ef67197",
   "metadata": {},
   "outputs": [
    {
     "data": {
      "text/plain": [
       "(5, 5, 4)"
      ]
     },
     "execution_count": 47,
     "metadata": {},
     "output_type": "execute_result"
    }
   ],
   "source": [
    "# creating list of matricies of differences .shape=(N,N,4)\n",
    "u = set_random_y0(5,1234)\n",
    "u[:,0], u[:,1] = 0, 0    # zeroing the position\n",
    "\n",
    "# inspect the following lines:\n",
    "# np.stack([u]*N,axis=0)\n",
    "# np.stack([u]*N,axis=1)\n",
    "\n",
    "# draw on whiteboard what is going on, where are axes and how numpy stack arrays\n",
    "# and explain np.stack([u]*N,axis=2) \n",
    "vel_diff = np.stack([u]*N,axis=0) - np.stack([u]*N,axis=1)\n",
    "vel_diff.shape\n",
    "# vel_diff"
   ]
  },
  {
   "cell_type": "code",
   "execution_count": 31,
   "id": "a0fe9d23-5fa3-4408-be5e-f522bdf87ac6",
   "metadata": {},
   "outputs": [
    {
     "name": "stdout",
     "output_type": "stream",
     "text": [
      "[[[ 0.          0.          0.          0.        ]\n",
      "  [-0.59650403  0.12367506  0.          0.        ]\n",
      "  [-0.05345353  0.2004427   0.          0.        ]\n",
      "  [-0.71500734  0.84598801  0.          0.        ]\n",
      "  [-0.65760271  0.14555857  0.          0.        ]]\n",
      "\n",
      " [[ 0.59650403 -0.12367506  0.          0.        ]\n",
      "  [ 0.          0.          0.          0.        ]\n",
      "  [ 0.5430505   0.07676764  0.          0.        ]\n",
      "  [-0.11850331  0.72231295  0.          0.        ]\n",
      "  [-0.06109868  0.02188351  0.          0.        ]]\n",
      "\n",
      " [[ 0.05345353 -0.2004427   0.          0.        ]\n",
      "  [-0.5430505  -0.07676764  0.          0.        ]\n",
      "  [ 0.          0.          0.          0.        ]\n",
      "  [-0.66155381  0.64554532  0.          0.        ]\n",
      "  [-0.60414918 -0.05488412  0.          0.        ]]\n",
      "\n",
      " [[ 0.71500734 -0.84598801  0.          0.        ]\n",
      "  [ 0.11850331 -0.72231295  0.          0.        ]\n",
      "  [ 0.66155381 -0.64554532  0.          0.        ]\n",
      "  [ 0.          0.          0.          0.        ]\n",
      "  [ 0.05740463 -0.70042944  0.          0.        ]]\n",
      "\n",
      " [[ 0.65760271 -0.14555857  0.          0.        ]\n",
      "  [ 0.06109868 -0.02188351  0.          0.        ]\n",
      "  [ 0.60414918  0.05488412  0.          0.        ]\n",
      "  [-0.05740463  0.70042944  0.          0.        ]\n",
      "  [ 0.          0.          0.          0.        ]]]\n"
     ]
    }
   ],
   "source": [
    "# procedure to obtain distances betweeen points is similar\n",
    "pos = y_test.copy()\n",
    "pos[:,2], pos[:,3] = 0, 0\n",
    "# print(pos)\n",
    "pos_diffs = np.stack([pos]*N,axis=0) - np.stack([pos]*N,axis=1)\n",
    "print(pos_diffs)"
   ]
  },
  {
   "cell_type": "markdown",
   "id": "42420477-c69c-4bfd-8c9b-d8205148e71e",
   "metadata": {},
   "source": [
    "Notice (like before) first array has 0 in the first row, the second has zero in the second row and so on.\\\n",
    "With singular weight without $\\sigma^2$ it can be problem. Hence float_power has parameter called where (check documentation).\\\n",
    "It evaluates when the argument assined to where is True."
   ]
  },
  {
   "cell_type": "code",
   "execution_count": 21,
   "id": "cc17487d-3653-4fa3-b636-533d52dfb9ce",
   "metadata": {},
   "outputs": [
    {
     "data": {
      "text/plain": [
       "3.0501745665126365"
      ]
     },
     "execution_count": 21,
     "metadata": {},
     "output_type": "execute_result"
    }
   ],
   "source": [
    "# Lets calculate norms of the vectors of pos_diffs.\n",
    "# we need to apply np.linang.norm()\n",
    "np.linalg.norm(pos_diffs) # <- doeas not do what we want "
   ]
  },
  {
   "cell_type": "code",
   "execution_count": 79,
   "id": "d73c65ca-8299-4fa6-89c3-ab1ae711cb6b",
   "metadata": {},
   "outputs": [],
   "source": [
    "# we need to apply np.linalg.norm at the specific axis (check axis=0 and 1 for an exercise)\n",
    "diffs = np.linalg.norm(pos_diffs, axis=2, keepdims=True)\n",
    "# diffs"
   ]
  },
  {
   "cell_type": "code",
   "execution_count": 63,
   "id": "d68360ff-7784-47be-9a88-4cef054fd5a4",
   "metadata": {},
   "outputs": [
    {
     "data": {
      "text/plain": [
       "array([[[0.        ],\n",
       "        [1.48661233],\n",
       "        [3.51943603],\n",
       "        [0.9214503 ],\n",
       "        [1.37189168]],\n",
       "\n",
       "       [[1.48661233],\n",
       "        [0.        ],\n",
       "        [1.61692745],\n",
       "        [1.28352908],\n",
       "        [8.91676417]],\n",
       "\n",
       "       [[3.51943603],\n",
       "        [1.61692745],\n",
       "        [0.        ],\n",
       "        [1.06497429],\n",
       "        [1.49161542]],\n",
       "\n",
       "       [[0.9214503 ],\n",
       "        [1.28352908],\n",
       "        [1.06497429],\n",
       "        [0.        ],\n",
       "        [1.32600619]],\n",
       "\n",
       "       [[1.37189168],\n",
       "        [8.91676417],\n",
       "        [1.49161542],\n",
       "        [1.32600619],\n",
       "        [0.        ]]])"
      ]
     },
     "execution_count": 63,
     "metadata": {},
     "output_type": "execute_result"
    }
   ],
   "source": [
    "# now we are ready to apply comm_weight, by default \n",
    "weighted_diffs = comm_weight(np.linalg.norm(pos_diffs, axis=2, keepdims=True))\n",
    "weighted_diffs"
   ]
  },
  {
   "cell_type": "code",
   "execution_count": 77,
   "id": "99e92c0d-847a-4f13-9aee-5bbfcd0b3a41",
   "metadata": {},
   "outputs": [
    {
     "data": {
      "text/plain": [
       "array([[[  0.        ,   0.        ,   0.        ,   0.        ],\n",
       "        [  0.        ,   0.        ,  10.91888606,  15.42433406],\n",
       "        [  0.        ,   0.        ,  -4.89675302,  54.79661001],\n",
       "        [  0.        ,   0.        ,   3.80351427,   9.8752682 ],\n",
       "        [  0.        ,   0.        ,  -4.13049151,   6.34896771]],\n",
       "\n",
       "       [[  0.        ,   0.        , -10.91888606, -15.42433406],\n",
       "        [  0.        ,   0.        ,   0.        ,   0.        ],\n",
       "        [  0.        ,   0.        , -14.12573141,   8.39867929],\n",
       "        [  0.        ,   0.        ,  -4.12919396,   0.43845459],\n",
       "        [  0.        ,   0.        , -92.33853844, -51.24998461]],\n",
       "\n",
       "       [[  0.        ,   0.        ,   4.89675302, -54.79661001],\n",
       "        [  0.        ,   0.        ,  14.12573141,  -8.39867929],\n",
       "        [  0.        ,   0.        ,   0.        ,   0.        ],\n",
       "        [  0.        ,   0.        ,   5.87769276,  -5.16791624],\n",
       "        [  0.        ,   0.        ,  -2.4156027 , -16.32098807]],\n",
       "\n",
       "       [[  0.        ,   0.        ,  -3.80351427,  -9.8752682 ],\n",
       "        [  0.        ,   0.        ,   4.12919396,  -0.43845459],\n",
       "        [  0.        ,   0.        ,  -5.87769276,   5.16791624],\n",
       "        [  0.        ,   0.        ,   0.        ,   0.        ],\n",
       "        [  0.        ,   0.        ,  -9.46575842,  -8.07431665]],\n",
       "\n",
       "       [[  0.        ,   0.        ,   4.13049151,  -6.34896771],\n",
       "        [  0.        ,   0.        ,  92.33853844,  51.24998461],\n",
       "        [  0.        ,   0.        ,   2.4156027 ,  16.32098807],\n",
       "        [  0.        ,   0.        ,   9.46575842,   8.07431665],\n",
       "        [  0.        ,   0.        ,   0.        ,   0.        ]]])"
      ]
     },
     "execution_count": 77,
     "metadata": {},
     "output_type": "execute_result"
    }
   ],
   "source": [
    "# now we multiply weighted_diffs by vel_diff (how we want multiply explain on whiteboard)\n",
    "# There is a bonus of keeping (using keepdims=True) the shape of our array becasue multiplication that we are intrested in is... \n",
    "weighted_diffs*vel_diff"
   ]
  },
  {
   "cell_type": "code",
   "execution_count": 72,
   "id": "f76e11b2-8db1-4af6-bbb6-c9a3e60b1122",
   "metadata": {},
   "outputs": [
    {
     "name": "stdout",
     "output_type": "stream",
     "text": [
      "[ 0.          0.          5.87769276 -5.16791624]\n"
     ]
    }
   ],
   "source": [
    "# lest check if this is waht we wanted, by chceckign if the first non zero output\n",
    "# is the result of proper(in our heads) multiplication.\n",
    "\n",
    "# print(weighted_diffs)\n",
    "# print(vel_diff)\n",
    "\n",
    "print(weighted_diffs[2,3]*vel_diff[2,3])"
   ]
  },
  {
   "cell_type": "code",
   "execution_count": 76,
   "id": "248ad68d-b34a-4554-8d40-e6f76cc8a3ea",
   "metadata": {},
   "outputs": [
    {
     "data": {
      "text/plain": [
       "array([[   0.        ,    0.        ,    5.69515581,   86.44517999],\n",
       "       [   0.        ,    0.        , -121.51234988,  -57.83718479],\n",
       "       [   0.        ,    0.        ,   22.4845745 ,  -84.68419361],\n",
       "       [   0.        ,    0.        ,  -15.01777149,  -13.2201232 ],\n",
       "       [   0.        ,    0.        ,  108.35039105,   69.29632162]])"
      ]
     },
     "execution_count": 76,
     "metadata": {},
     "output_type": "execute_result"
    }
   ],
   "source": [
    "# Now the sums, again we sum over proper axis\n",
    "to_sum = weighted_diffs*vel_diff\n",
    "np.sum(to_sum, axis =1 )\n"
   ]
  },
  {
   "cell_type": "code",
   "execution_count": 3,
   "id": "9cadd5ca-856e-471a-9c3f-7fe7ab656e97",
   "metadata": {},
   "outputs": [],
   "source": [
    "# pack all those steps into a function rhs_d_vel\n",
    "def rhs_d_vel(y, mass=0, comm_weight=0):\n",
    "    \"\"\" docs \"\"\"\n",
    "    #split position and velocity\n",
    "    N = len(y)\n",
    "    vel = y.copy()\n",
    "    vel[:,0], vel[:,1] = 0, 0\n",
    "    pos = y.copy()\n",
    "    pos[:,2], pos[:,3] = 0, 0\n",
    "    \n",
    "    # stack of matricies of all diferences of velocities\n",
    "    vel_diff = np.stack([vel]*N,axis=0) - np.stack([vel]*N,axis=1)\n",
    "    \n",
    "    # stack of matricies of all diferences of position\n",
    "    pos_diffs = np.stack([pos]*N,axis=0) - np.stack([pos]*N,axis=1)\n",
    "    \n",
    "    # the values of eta function on distances \n",
    "    vcomm_weight = np.vectorize(comm_weight)\n",
    "    weighted_diffs = vcomm_weight(np.linalg.norm(pos_diffs, axis=2, keepdims=True))\n",
    "    \n",
    "    return np.sum( weighted_diffs*vel_diff, axis=1 )"
   ]
  },
  {
   "cell_type": "code",
   "execution_count": 118,
   "id": "eabf7276-7d22-4354-ab1b-636f490b88ca",
   "metadata": {},
   "outputs": [],
   "source": [
    "# notice :\n",
    "# np.sum(rhs_d_vel(set_random_y0(6,1234),0,comm_weight), axis=0)\n",
    "# rhs_func(0, set_random_y0(5,1234), mass=0, comm_weight=comm_weight)"
   ]
  },
  {
   "cell_type": "markdown",
   "id": "64cac95b-25ae-461b-9c09-ccd96a5a38c9",
   "metadata": {},
   "source": [
    "### 2. Solving with solve_ivp"
   ]
  },
  {
   "cell_type": "markdown",
   "id": "f674fa9d-b25c-4933-9b5e-16b83c092a91",
   "metadata": {},
   "source": [
    "Start with definition of how many points and initial value y0."
   ]
  },
  {
   "cell_type": "code",
   "execution_count": 13,
   "id": "2fa20c9f-1c4a-43d3-8112-df0097581f36",
   "metadata": {},
   "outputs": [],
   "source": [
    "n = 5\n",
    "y0 = set_random_y0(n,1234)"
   ]
  },
  {
   "cell_type": "markdown",
   "id": "dedab065-048e-4608-80b0-0e58e742b665",
   "metadata": {},
   "source": [
    "Note: solve_ivp has callable which has to have two variables therfore you see lambda syntax below"
   ]
  },
  {
   "cell_type": "code",
   "execution_count": 14,
   "id": "c4e3c74a-d806-495e-8260-42575392c5a7",
   "metadata": {},
   "outputs": [
    {
     "data": {
      "text/plain": [
       "'The solver successfully reached the end of the integration interval.'"
      ]
     },
     "execution_count": 14,
     "metadata": {},
     "output_type": "execute_result"
    }
   ],
   "source": [
    "from scipy.integrate import solve_ivp\n",
    "birds = solve_ivp(lambda t, y: rhs_func(t , y, 0, comm_weight),\n",
    "        (0, 1),\n",
    "        y0.ravel(),\n",
    "        method='RK45',\n",
    "        # t_eval = np.linspace(self.t0, self.t0+self.duration, int(self.duration*self.fps/self.speed)),\n",
    "        dense_output=True\n",
    "        )\n",
    "birds.message"
   ]
  },
  {
   "cell_type": "markdown",
   "id": "edad8f92-3690-4cb2-8ed7-3c5895215193",
   "metadata": {},
   "source": [
    "#### Animation and interactive graph.\n",
    "Beacasue we are using jupyter now it gets quite complicated.\\\n",
    "We need to install ipympl\\\n",
    "Code below is almost a copy from the site https://github.com/matplotlib/ipympl/blob/main/docs/examples/full-example.ipynb \\\n",
    "We need to check if it works for us and when it works then change to our data and our interactive picture."
   ]
  },
  {
   "cell_type": "code",
   "execution_count": 1,
   "id": "ec9b0557-9fbd-4134-9e46-cfa0d6f1ca00",
   "metadata": {},
   "outputs": [
    {
     "data": {
      "application/vnd.jupyter.widget-view+json": {
       "model_id": "34d22c806df141a5b0f889da736d530f",
       "version_major": 2,
       "version_minor": 0
      },
      "text/plain": [
       "AppLayout(children=(FloatSlider(value=1.0, description='Factor:', layout=Layout(grid_area='footer', margin='0p…"
      ]
     },
     "metadata": {},
     "output_type": "display_data"
    }
   ],
   "source": [
    "%matplotlib widget\n",
    "\n",
    "import matplotlib.pyplot as plt\n",
    "import numpy as np\n",
    "\n",
    "from ipywidgets import AppLayout, FloatSlider\n",
    "\n",
    "plt.ioff()\n",
    "\n",
    "slider = FloatSlider(\n",
    "    orientation='horizontal',\n",
    "    description='Factor:',\n",
    "    value=1.0,\n",
    "    min=0.02,\n",
    "    max=2.0\n",
    ")\n",
    "\n",
    "slider.layout.margin = '0px 30% 0px 30%'\n",
    "slider.layout.width = '40%'\n",
    "\n",
    "fig = plt.figure()\n",
    "fig.canvas.header_visible = False\n",
    "fig.canvas.layout.min_height = '400px'\n",
    "plt.title('Plotting: y=sin({} * x)'.format(slider.value))\n",
    "\n",
    "x = np.linspace(0, 20, 500)\n",
    "\n",
    "lines = plt.plot(x, np.sin(slider.value * x))\n",
    "\n",
    "def update_lines(change):\n",
    "    plt.title('Plotting: y=sin({} * x)'.format(change.new))\n",
    "    lines[0].set_data(x, np.sin(change.new * x))\n",
    "    fig.canvas.draw()\n",
    "    fig.canvas.flush_events()\n",
    "\n",
    "slider.observe(update_lines, names='value')\n",
    "\n",
    "AppLayout(\n",
    "    center=fig.canvas,\n",
    "    footer=slider,\n",
    "    pane_heights=[0, 6, 1]\n",
    ")"
   ]
  },
  {
   "cell_type": "markdown",
   "id": "60242dab-bf2a-43a6-938d-e0f39dd1e7fc",
   "metadata": {},
   "source": [
    "Our picture is also 2D, we have one parameter t (time) which will be on the slider it seems we can easly change the above example."
   ]
  },
  {
   "cell_type": "code",
   "execution_count": 21,
   "id": "5a8e176d-a0ee-4ea3-9773-43c1043aa180",
   "metadata": {},
   "outputs": [
    {
     "data": {
      "text/plain": [
       "array([[ 0.56234117,  0.81735982,  0.46354631,  0.46054219, -0.39639684],\n",
       "       [-1.2354688 ,  0.3985368 ,  1.16297239,  1.33316102, -0.32085777]])"
      ]
     },
     "execution_count": 21,
     "metadata": {},
     "output_type": "execute_result"
    }
   ],
   "source": [
    "# to access data we have .sol method\n",
    "birds.sol(0.3).reshape(-1,4)[:,:2].T"
   ]
  },
  {
   "cell_type": "code",
   "execution_count": 34,
   "id": "3e9486b5-4120-497a-ba0a-3e90cd407f9f",
   "metadata": {},
   "outputs": [
    {
     "data": {
      "text/plain": [
       "<matplotlib.collections.PathCollection at 0x19aa31f23a0>"
      ]
     },
     "execution_count": 34,
     "metadata": {},
     "output_type": "execute_result"
    },
    {
     "data": {
      "image/png": "[encoded data removed]",
      "text/plain": [
       "<Figure size 640x480 with 1 Axes>"
      ]
     },
     "metadata": {},
     "output_type": "display_data"
    }
   ],
   "source": [
    "# jupyter magic (strings after %) changes many cells - if we only evaluate  plt.scatter(*birds.sol(0.3).reshape(-1,4)[:,:2].T) it draws in our tester sin cell.\n",
    "# to go back to local cell drawing we can use with command %matplotlib inline\n",
    "%matplotlib inline\n",
    "plt.scatter(*birds.sol(0.3).reshape(-1,4)[:,:2].T)"
   ]
  },
  {
   "cell_type": "code",
   "execution_count": 31,
   "id": "713b64f4-154f-4c88-812a-d558d90dd66b",
   "metadata": {},
   "outputs": [
    {
     "data": {
      "application/vnd.jupyter.widget-view+json": {
       "model_id": "b8a1fa10286e4844a17c490235b23df1",
       "version_major": 2,
       "version_minor": 0
      },
      "text/plain": [
       "AppLayout(children=(FloatSlider(value=0.02, description='Factor:', layout=Layout(grid_area='footer', margin='0…"
      ]
     },
     "metadata": {},
     "output_type": "display_data"
    }
   ],
   "source": [
    "%matplotlib widget\n",
    "\n",
    "import matplotlib.pyplot as plt\n",
    "import numpy as np\n",
    "\n",
    "from ipywidgets import AppLayout, FloatSlider\n",
    "\n",
    "plt.ioff()\n",
    "\n",
    "#we need to change slider to fit solution :\n",
    "slider = FloatSlider(\n",
    "    orientation='horizontal',\n",
    "    description='Factor:',\n",
    "    value=0.02,\n",
    "    min=0.01,\n",
    "    max=0.99,\n",
    "    step=0.01\n",
    ")\n",
    "\n",
    "slider.layout.margin = '0px 30% 0px 30%'\n",
    "slider.layout.width = '40%'\n",
    "\n",
    "# fig = plt.figure()\n",
    "fig, ax = plt.subplots()\n",
    "ax.set_xlim([-1, 2])\n",
    "ax.set_ylim([-1, 2])\n",
    "fig.canvas.header_visible = False\n",
    "fig.canvas.layout.min_height = '400px'\n",
    "'Birds at the point: t={}'.format(slider.value)\n",
    "plt.title('Birds at the point: t={}'.format(slider.value))\n",
    "\n",
    "# x = np.linspace(0, 20, 500)\n",
    "# lines = plt.plot(x, np.sin(slider.value * x))\n",
    "# the above was drawing\n",
    "def lines(t):\n",
    "    fig, ax = plt.subplots()\n",
    "    ax.set_xlim([-1, 2])\n",
    "    ax.set_ylim([-1, 2])\n",
    "    return plt.scatter(*(birds.sol(t).reshape(-1,4)[:,:2].T))\n",
    "\n",
    "def update_lines(change):\n",
    "    \"\"\" this function is \"creating frames\" and control what is happeing to interactive picture \"\"\"\n",
    "    plt.title('Birds at the point: t={}'.format(change.new)) \n",
    "    fig.clear()          # this line is clearing previous points\n",
    "    lines(change.new)    # this is drawing our points\n",
    "    fig.canvas.draw()\n",
    "    fig.canvas.flush_events()\n",
    "\n",
    "slider.observe(update_lines, names='value')\n",
    "\n",
    "AppLayout(\n",
    "    center=fig.canvas,\n",
    "    footer=slider,\n",
    "    pane_heights=[0, 6, 1]\n",
    ")"
   ]
  },
  {
   "cell_type": "code",
   "execution_count": 43,
   "id": "48a49647-c771-4f3a-9c01-1684142a49a6",
   "metadata": {},
   "outputs": [
    {
     "data": {
      "text/plain": [
       "<matplotlib.lines.Line2D at 0x19aa6d123d0>"
      ]
     },
     "execution_count": 43,
     "metadata": {},
     "output_type": "execute_result"
    }
   ],
   "source": [
    "lines = plt.plot(x, np.sin(slider.value * x))\n",
    "lines[0]"
   ]
  },
  {
   "cell_type": "code",
   "execution_count": null,
   "id": "957411b2-fee0-425e-9cef-8eb49c393da8",
   "metadata": {},
   "outputs": [],
   "source": []
  }
 ],
 "metadata": {
  "kernelspec": {
   "display_name": "Python 3 (ipykernel)",
   "language": "python",
   "name": "python3"
  },
  "language_info": {
   "codemirror_mode": {
    "name": "ipython",
    "version": 3
   },
   "file_extension": ".py",
   "mimetype": "text/x-python",
   "name": "python",
   "nbconvert_exporter": "python",
   "pygments_lexer": "ipython3",
   "version": "3.9.12"
  }
 },
 "nbformat": 4,
 "nbformat_minor": 5
}
