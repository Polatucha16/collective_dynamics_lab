{
 "cells": [
  {
   "cell_type": "code",
   "execution_count": 2,
   "id": "d036db2c-1452-441d-8f66-ed21b22d6995",
   "metadata": {},
   "outputs": [],
   "source": [
    "import numpy as np"
   ]
  },
  {
   "cell_type": "markdown",
   "id": "125c7dd3-90fc-4ee1-b454-e5984db7eaa2",
   "metadata": {
    "tags": []
   },
   "source": [
    "## Main problems in making a simulation:\n",
    "1. In solving CS model with solve_ivp - the main problem is write fast rhs function.\n",
    "2. Making an animation out of data."
   ]
  },
  {
   "cell_type": "markdown",
   "id": "c5f038c3-9426-4b0f-b95e-b29f781c5f84",
   "metadata": {
    "jp-MarkdownHeadingCollapsed": true,
    "tags": []
   },
   "source": [
    "### 0. Before you start to write your RHS functions.\n",
    "(in this case) it will be better to start with making functions which generate random data inputs\n",
    "(or at least generate one) to test pieces of your code on every step while you are writing."
   ]
  },
  {
   "cell_type": "code",
   "execution_count": 16,
   "id": "359fa76b-18e0-48ef-8e26-848d4b4273d2",
   "metadata": {},
   "outputs": [
    {
     "data": {
      "text/plain": [
       "array([[ 0.97669977,  0.11809123, -2.04977484, -8.63655605],\n",
       "       [ 0.38019574,  0.24176629,  5.29503583,  1.7389358 ],\n",
       "       [ 0.92324623,  0.31853393, -3.44112077,  6.93315728],\n",
       "       [ 0.26169242,  0.96407925,  2.0779728 ,  2.08053662],\n",
       "       [ 0.31909706,  0.2636498 , -5.06057487, -4.00866318]])"
      ]
     },
     "execution_count": 16,
     "metadata": {},
     "output_type": "execute_result"
    }
   ],
   "source": [
    "from numpy.random import default_rng, SeedSequence\n",
    "\n",
    "### initial condition functions ###\n",
    "def set_random_y0(N, seed, low=0, high=1, velo_st_dev=4):\n",
    "    \"\"\"Produces an initial CS_matrix\"\"\"\n",
    "    rng = default_rng(SeedSequence(seed))\n",
    "    \n",
    "    x_s = rng.uniform(low=low, high=high, size=N) # x coordinates of intial position\n",
    "    y_s = rng.uniform(low=low, high=high, size=N) # y coordinates of intial position\n",
    "\n",
    "    vx_s = velo_st_dev*rng.standard_normal(N) # x coordinates of intial velocity\n",
    "    vy_s = velo_st_dev*rng.standard_normal(N) # y coordinates of intial velocity\n",
    "\n",
    "    y_0 = np.c_[x_s, y_s, vx_s, vy_s] #returns a CS_matrix - initial condition\n",
    "    return y_0\n",
    "set_random_y0(5,1234)"
   ]
  },
  {
   "cell_type": "markdown",
   "id": "48fc7f43-19dc-4558-adf2-0297aedbdb1b",
   "metadata": {
    "tags": []
   },
   "source": [
    "### 1. CS right hand side\n",
    "We are going to write rhs for model in which every bird \"see\" every other bird, hence the equation for the behaviour of $i^{\\text{th}}$ bird is:\n",
    "\\begin{equation}\n",
    "\\begin{split}\n",
    "\\dot{x_i} & = v_i \\\\\n",
    "\\dot{v_i} & = \\sum_j \\eta\\!\\left( \\text{dist}(x_j,x_i)\\right)\\cdot\\left(v_j-v_i\\right)\n",
    "\\end{split}\n",
    "\\end{equation}\n",
    "where $$\\eta(s) = \\frac{K}{(\\sigma^2+s)^\\beta}.$$"
   ]
  },
  {
   "cell_type": "markdown",
   "id": "72541169-af52-4f09-aab2-f4d0f87fbe67",
   "metadata": {},
   "source": [
    "%%latex\n",
    "Notice that we are going to solve system of $N \\times 4$ functions.\\\n",
    "We organize data into $N \\times 4$ matrix, every row is a bird which is described by 4 numbers: \n",
    "first two - its position (call it temporarily $x_i$), last two - its velocity (call it temporarily $v_i$). This matrix is an input for the right hand side function.\\\n",
    "solve_ivp solves dy / dt = f(t, y) thus we can imagine we have an equation that looks like:\n",
    "$$\n",
    "%\\overset{\\bullet}{\n",
    "\\begin{pmatrix}\n",
    " x_1 & v_1 \\\\\n",
    " x_2 & v_2 \\\\\n",
    " \\vdots & \\vdots \\\\\n",
    " x_N & v_N\n",
    "\\end{pmatrix}'\n",
    "%}\n",
    "= \n",
    "\\begin{pmatrix}\n",
    " v_1 & \\sum\\eta\\!\\left( \\text{dist}(x_j,x_1)\\right)\\cdot\\left(v_j-v_1\\right) \\\\\n",
    " v_2 & \\sum\\eta\\!\\left( \\text{dist}(x_j,x_2)\\right)\\cdot\\left(v_j-v_2\\right) \\\\\n",
    " \\vdots & \\vdots \\\\\n",
    " v_N & \\sum\\eta\\!\\left( \\text{dist}(x_j,x_N)\\right)\\cdot\\left(v_j-v_N\\right)\n",
    "\\end{pmatrix}\n",
    "$$\n",
    "and we have to construct a function which for the matrix $y = [x\\:v]$ constructs what you see on the right of the equation sign above."
   ]
  },
  {
   "cell_type": "code",
   "execution_count": 50,
   "id": "2da5844c-a94c-4803-8c83-08758e06c69a",
   "metadata": {},
   "outputs": [],
   "source": [
    "\"\"\" Lets define some constants and communication weight\"\"\"\n",
    "N = 5\n",
    "def comm_weight(s):\n",
    "    \"\"\"Communication weight in Cucker-Smale model\"\"\"\n",
    "    return np.float_power(s, -0.8, out=np.zeros_like(s), where=s!=0)"
   ]
  },
  {
   "cell_type": "markdown",
   "id": "135f1c77-a924-4ba1-96dd-02bf8273c19a",
   "metadata": {
    "tags": []
   },
   "source": [
    "#### Why this:\n",
    "```python\n",
    ",where=s!=0\n",
    "```\n",
    "The strategy:\n",
    "1. Split function rhs into two: one returns derivatives of position, the second returns the derivaties of velocities,\n",
    "2. In the second using numpy arrays and numpy operations we construct the expression above while the first function(derivative of position) returns second two rows of the input."
   ]
  },
  {
   "cell_type": "code",
   "execution_count": 13,
   "id": "708f5e9c-0a2e-40ed-aaec-1d3479707b2c",
   "metadata": {},
   "outputs": [],
   "source": [
    "from typing import Callable\n",
    "\n",
    "def rhs_func(t: float, y: np.ndarray, mass: np.ndarray, comm_weight: Callable)-> np.ndarray:\n",
    "    \"\"\" The splitting of dx and dv is done here. \n",
    "            t           : independent variable in the ODE\n",
    "            y           : CS_data_point of the shape (N*4,)\n",
    "            mass        : array of \"masses\" we can set that some birds are more important than other\n",
    "            comm_weight : callable 'communication weight' funtion\n",
    "        \"\"\"\n",
    "    N = len(m)\n",
    "    y = y.reshape((N,4))    # this is for technical reasons = solve_ivp was not working for me with the .shape =(N, 4) so i'm using .shape=(N*4,)\n",
    "    x_derivatives = rhs_d_pos(y)\n",
    "    y_derivatives = rhs_d_vel(y, mass,comm_weight)\n",
    "    rhs = x_derivatives + y_derivatives\n",
    "    return rhs.ravel()"
   ]
  },
  {
   "cell_type": "markdown",
   "id": "f0f8e334-766d-49f5-9093-06cc974dc86c",
   "metadata": {},
   "source": [
    "We have to define two funtions: rhs_d_pos and rhs_d_vel.\\\n",
    "Another benefit of those functions is that we are back at the shape (n,4)."
   ]
  },
  {
   "cell_type": "code",
   "execution_count": 30,
   "id": "b3951c93-7e1d-469c-be09-2f4d862fc968",
   "metadata": {},
   "outputs": [],
   "source": [
    "\"\"\" return of rhs_d_pos will have the shape as input and compatible with last line rhs_func \"\"\"\n",
    "def rhs_d_pos(y):\n",
    "    u = y.copy()\n",
    "    u[:,0], u[:,1] = 0, 0    # zeroing the position\n",
    "    return u[:,[2,3,0,1]]    # velocities go to the front\n",
    "\n",
    "# print(set_random_y0(5,1234)) \n",
    "# rhs_d_pos(set_random_y0(5,1234)) # check"
   ]
  },
  {
   "cell_type": "code",
   "execution_count": 35,
   "id": "3110d263-ed1e-48ef-9dda-a27a0540adc3",
   "metadata": {},
   "outputs": [
    {
     "name": "stdout",
     "output_type": "stream",
     "text": [
      "[[ 0.97669977  0.11809123 -2.04977484 -8.63655605]\n",
      " [ 0.38019574  0.24176629  5.29503583  1.7389358 ]\n",
      " [ 0.92324623  0.31853393 -3.44112077  6.93315728]\n",
      " [ 0.26169242  0.96407925  2.0779728   2.08053662]\n",
      " [ 0.31909706  0.2636498  -5.06057487 -4.00866318]]\n"
     ]
    },
    {
     "data": {
      "text/plain": [
       "array([[0.97669977, 0.11809123, 0.        , 0.        ],\n",
       "       [0.38019574, 0.24176629, 0.        , 0.        ],\n",
       "       [0.92324623, 0.31853393, 0.        , 0.        ],\n",
       "       [0.26169242, 0.96407925, 0.        , 0.        ],\n",
       "       [0.31909706, 0.2636498 , 0.        , 0.        ]])"
      ]
     },
     "execution_count": 35,
     "metadata": {},
     "output_type": "execute_result"
    }
   ],
   "source": [
    "\"\"\" Now the harder part: rhs_d_vel \"\"\"\n",
    "def rhs_d_vel(y, mass=0, comm_weight=0):\n",
    "    vel = y.copy()\n",
    "    vel[:,0], vel[:,1] = 0, 0   # zeroing the position\n",
    "    pos = y.copy()\n",
    "    pos[:,2], pos[:,3] = 0, 0   # zeroing the velocity\n",
    "    result = np.zeros(y.shape)  # place for the result\n",
    "    \n",
    "    # creating list of matricies of differences .shape=(N,N,4)\n",
    "    \n",
    "    \n",
    "    return result\n",
    "    \n",
    "# print(set_random_y0(5,1234)) \n",
    "# rhs_d_vel(set_random_y0(5,1234)) # check"
   ]
  },
  {
   "cell_type": "code",
   "execution_count": 47,
   "id": "4773d2df-96ac-4bb5-a2fa-bfe12ef67197",
   "metadata": {},
   "outputs": [
    {
     "data": {
      "text/plain": [
       "(5, 5, 4)"
      ]
     },
     "execution_count": 47,
     "metadata": {},
     "output_type": "execute_result"
    }
   ],
   "source": [
    "# creating list of matricies of differences .shape=(N,N,4)\n",
    "u = set_random_y0(5,1234)\n",
    "u[:,0], u[:,1] = 0, 0    # zeroing the position\n",
    "\n",
    "# inspect the following two lines:\n",
    "# np.stack([u]*N,axis=0)\n",
    "# np.stack([u]*N,axis=1) \n",
    "vel_diff = np.stack([u]*N,axis=0) - np.stack([u]*N,axis=1)\n",
    "vel_diff.shape"
   ]
  },
  {
   "cell_type": "code",
   "execution_count": null,
   "id": "2e545a4b-2b88-468c-b436-08e970111043",
   "metadata": {},
   "outputs": [],
   "source": []
  }
 ],
 "metadata": {
  "kernelspec": {
   "display_name": "Python 3 (ipykernel)",
   "language": "python",
   "name": "python3"
  },
  "language_info": {
   "codemirror_mode": {
    "name": "ipython",
    "version": 3
   },
   "file_extension": ".py",
   "mimetype": "text/x-python",
   "name": "python",
   "nbconvert_exporter": "python",
   "pygments_lexer": "ipython3",
   "version": "3.9.12"
  }
 },
 "nbformat": 4,
 "nbformat_minor": 5
}
