{
 "cells": [
  {
   "cell_type": "code",
   "execution_count": 1,
   "id": "25ce08b2-a012-478a-ad3d-9c41abccee58",
   "metadata": {},
   "outputs": [],
   "source": [
    "import numpy as np\n",
    "import torch"
   ]
  },
  {
   "cell_type": "markdown",
   "id": "342d58ee-6beb-42fc-9c90-855018b3f551",
   "metadata": {},
   "source": [
    "#### data names"
   ]
  },
  {
   "cell_type": "code",
   "execution_count": 2,
   "id": "431f60b8-233f-4eeb-80b7-f39593b7aef0",
   "metadata": {},
   "outputs": [],
   "source": [
    "# from torch.utils.data import Dataset\n",
    "from torchvision import datasets\n",
    "from torchvision.transforms import ToTensor\n",
    "\n",
    "training_data = datasets.MNIST(\n",
    "    root=\"data\",\n",
    "    train=True,\n",
    "    download=False,    #True if not dowloaded\n",
    "    transform=ToTensor()\n",
    ")\n",
    "test_data = datasets.MNIST(\n",
    "    root=\"data\",\n",
    "    train=False,\n",
    "    download=False,    #True if not dowloaded\n",
    "    transform=ToTensor()\n",
    ")"
   ]
  },
  {
   "cell_type": "code",
   "execution_count": 3,
   "id": "d0e87aef-6b9f-4977-a89b-7b41fbed73ae",
   "metadata": {},
   "outputs": [],
   "source": [
    "device = torch.device('cuda') if torch.cuda.is_available() else torch.device('cpu')"
   ]
  },
  {
   "cell_type": "markdown",
   "id": "9697d16d-ee2e-4e09-a598-08ea2b15bcd8",
   "metadata": {},
   "source": [
    "#### Define NN part"
   ]
  },
  {
   "cell_type": "code",
   "execution_count": 4,
   "id": "562df124-5701-493f-9dba-0e7d347b5908",
   "metadata": {},
   "outputs": [],
   "source": [
    "# import os\n",
    "from torch import nn\n",
    "# from torchvision import datasets, transforms\n",
    "\n",
    "class NeuralNetwork(nn.Module):\n",
    "    def __init__(self):\n",
    "        # call __init__ from the parent class: nn.Module.\n",
    "        super(NeuralNetwork, self).__init__()\n",
    "        \n",
    "        # this flattens the images in the batch to the 1d tensors suitabe for nn.Sequential\n",
    "        self.flatten = nn.Flatten()\n",
    "        self.linear_relu_stack = nn.Sequential(\n",
    "            nn.Linear(28*28, 16),  #  input -> 1st layer  = first hidden layer  16 neurons. (like matrix of shape: 16 x 784)\n",
    "            nn.ReLU(),             # ReLU activation funtion at 16 neurons of the 1st layer\n",
    "            nn.Linear(16, 16),     # 1st layer -> 2nd layer = second hidden layer with 16 neurons\n",
    "            nn.ReLU(),             # ReLU activation funtion at 16 neurons of the 2nd layer\n",
    "            nn.Linear(16, 10),     # 2nd layer -> output \n",
    "        )\n",
    "\n",
    "    def forward(self, x):\n",
    "        x = self.flatten(x)\n",
    "        logits = self.linear_relu_stack(x)\n",
    "        return logits\n",
    "    \n",
    "def train_loop(dataloader, model, loss_fn, optimizer):\n",
    "    size = len(dataloader.dataset)\n",
    "    for i, batch in enumerate(dataloader):\n",
    "        # Compute prediction and loss\n",
    "        X, y = batch[0].to(device), batch[1].to(device)\n",
    "        pred = model(X)            #*mat: evaluate the model batch_size of times and put results in a tensor \"next\" to each other\n",
    "        loss = loss_fn(pred, y)    #*mat: compute the loss function \n",
    "\n",
    "        # Backpropagation\n",
    "        optimizer.zero_grad()      # place in memory for the derivative needs reseting\n",
    "        loss.backward()            #*mat: calculate the derivative (**)\n",
    "        optimizer.step()           # call the black box algoritm that do the magic\n",
    "\n",
    "        # print the progress every 100th batch.\n",
    "        if i % 100 == 0:\n",
    "            loss, current = loss.item(), i * len(X)\n",
    "            print(f\"loss: {loss:>7f}  [{current:>5d}/{size:>5d}]\")\n",
    "            \n",
    "def test_loop(dataloader, model, loss_fn):\n",
    "    size = len(dataloader.dataset)\n",
    "    num_batches = len(dataloader)\n",
    "    test_loss, correct = 0, 0\n",
    "\n",
    "    with torch.no_grad():\n",
    "        for batch in dataloader:\n",
    "            X, y = batch[0].to(device), batch[1].to(device)\n",
    "            pred = model(X)\n",
    "            test_loss += loss_fn(pred, y).item()\n",
    "            correct += (pred.argmax(1) == y).type(torch.float).sum().item()\n",
    "\n",
    "    test_loss /= num_batches\n",
    "    correct /= size\n",
    "    print(f\"Test Error: \\n Accuracy: {(100*correct):>0.1f}%, Avg loss: {test_loss:>8f} \\n\")"
   ]
  },
  {
   "cell_type": "markdown",
   "id": "136f2edb-c084-4444-83eb-a035fb8f4f79",
   "metadata": {},
   "source": [
    "#### train-y part"
   ]
  },
  {
   "cell_type": "code",
   "execution_count": 103,
   "id": "11124499-ba51-4ebb-a266-31645f82cc03",
   "metadata": {},
   "outputs": [],
   "source": [
    "# hyperparameters\n",
    "learning_rate = 1e-2\n",
    "batch_size = 100\n",
    "epochs = 5\n",
    "\n",
    "loss_fn = nn.CrossEntropyLoss()\n",
    "model = NeuralNetwork().to(device) \n",
    "optimizer = torch.optim.SGD(model.parameters(), lr=learning_rate, momentum=0.9)\n"
   ]
  },
  {
   "cell_type": "code",
   "execution_count": 104,
   "id": "228d7fb4-2b65-40e0-8ea1-716ab9f0adcf",
   "metadata": {},
   "outputs": [],
   "source": [
    "from torch.utils.data import DataLoader\n",
    "\n",
    "train_dataloader = DataLoader(training_data, batch_size=100, shuffle=True, pin_memory=True)\n",
    "test_dataloader = DataLoader(test_data, batch_size=100, shuffle=True, pin_memory=True)"
   ]
  },
  {
   "cell_type": "code",
   "execution_count": 105,
   "id": "d34ad219-8858-45ea-b729-b30379c21447",
   "metadata": {},
   "outputs": [
    {
     "name": "stdout",
     "output_type": "stream",
     "text": [
      "Epoch 1\n",
      "-------------------------------\n",
      "loss: 2.334503  [    0/60000]\n",
      "loss: 1.439916  [10000/60000]\n",
      "loss: 0.548414  [20000/60000]\n",
      "loss: 0.410761  [30000/60000]\n",
      "loss: 0.493014  [40000/60000]\n",
      "loss: 0.328411  [50000/60000]\n",
      "Test Error: \n",
      " Accuracy: 90.5%, Avg loss: 0.331461 \n",
      "\n",
      "Epoch 2\n",
      "-------------------------------\n",
      "loss: 0.287031  [    0/60000]\n",
      "loss: 0.325892  [10000/60000]\n",
      "loss: 0.206460  [20000/60000]\n",
      "loss: 0.506496  [30000/60000]\n",
      "loss: 0.300466  [40000/60000]\n",
      "loss: 0.281228  [50000/60000]\n",
      "Test Error: \n",
      " Accuracy: 92.0%, Avg loss: 0.278768 \n",
      "\n",
      "Epoch 3\n",
      "-------------------------------\n",
      "loss: 0.249926  [    0/60000]\n",
      "loss: 0.329086  [10000/60000]\n",
      "loss: 0.113245  [20000/60000]\n",
      "loss: 0.296915  [30000/60000]\n",
      "loss: 0.298392  [40000/60000]\n",
      "loss: 0.205776  [50000/60000]\n",
      "Test Error: \n",
      " Accuracy: 92.9%, Avg loss: 0.248103 \n",
      "\n",
      "Epoch 4\n",
      "-------------------------------\n",
      "loss: 0.164818  [    0/60000]\n",
      "loss: 0.275655  [10000/60000]\n",
      "loss: 0.424604  [20000/60000]\n",
      "loss: 0.186129  [30000/60000]\n",
      "loss: 0.234268  [40000/60000]\n",
      "loss: 0.309248  [50000/60000]\n",
      "Test Error: \n",
      " Accuracy: 93.9%, Avg loss: 0.212525 \n",
      "\n",
      "Epoch 5\n",
      "-------------------------------\n",
      "loss: 0.236029  [    0/60000]\n",
      "loss: 0.174242  [10000/60000]\n",
      "loss: 0.295013  [20000/60000]\n",
      "loss: 0.209774  [30000/60000]\n",
      "loss: 0.153248  [40000/60000]\n",
      "loss: 0.199949  [50000/60000]\n",
      "Test Error: \n",
      " Accuracy: 94.1%, Avg loss: 0.202075 \n",
      "\n",
      "Done!\n"
     ]
    }
   ],
   "source": [
    "for t in range(epochs):\n",
    "    print(f\"Epoch {t+1}\\n-------------------------------\")\n",
    "    train_loop(train_dataloader, model, loss_fn, optimizer)\n",
    "    test_loop(test_dataloader, model, loss_fn)\n",
    "print(\"Done!\")"
   ]
  },
  {
   "cell_type": "code",
   "execution_count": 106,
   "id": "abc984de-7074-4aa1-8fb9-996ff25dcd6a",
   "metadata": {},
   "outputs": [
    {
     "name": "stdout",
     "output_type": "stream",
     "text": [
      "tensor([[  2.3483,  -3.7659,   2.1727,   5.7998, -10.4997,   2.7526,  -3.3734,\n",
      "         -10.7476,   6.2890,  -4.6178]], device='cuda:0',\n",
      "       grad_fn=<AddmmBackward0>)\n"
     ]
    }
   ],
   "source": [
    "# result for random image\n",
    "X = torch.rand(1, 28, 28, device=device) # random image\n",
    "print(model(X))"
   ]
  },
  {
   "cell_type": "code",
   "execution_count": 122,
   "id": "2eb5d5f9-26c5-4fb0-9ea9-2caf30de46d6",
   "metadata": {},
   "outputs": [
    {
     "name": "stdout",
     "output_type": "stream",
     "text": [
      "tensor([[-1.5025, -1.7869, -1.8945,  0.0168, -6.9241,  2.1257, -2.2416, -7.7897,\n",
      "         12.7867,  0.1850]], device='cuda:0', grad_fn=<AddmmBackward0>)\n",
      "8\n"
     ]
    },
    {
     "data": {
      "image/png": "[encoded data removed]",
      "text/plain": [
       "<Figure size 500x1000 with 2 Axes>"
      ]
     },
     "metadata": {},
     "output_type": "display_data"
    }
   ],
   "source": [
    "import matplotlib.pyplot as plt\n",
    "ith = 777\n",
    "img, label = training_data[ith]\n",
    "print(model(img.to(device)))\n",
    "print(label)\n",
    "fig = plt.figure(figsize=(5, 10))\n",
    "fig.add_subplot(1, 2, 1)\n",
    "plt.imshow(img.squeeze(), cmap=\"gray\")\n",
    "plt.axis(\"off\")\n",
    "fig.add_subplot(1, 2, 2)\n",
    "plt.imshow(X.to('cpu').squeeze(), cmap=\"gray\")\n",
    "plt.axis(\"off\")\n",
    "plt.show()"
   ]
  },
  {
   "cell_type": "code",
   "execution_count": 108,
   "id": "60cf626d-40c3-41df-9ac3-e5d13bbb1b45",
   "metadata": {},
   "outputs": [
    {
     "name": "stdout",
     "output_type": "stream",
     "text": [
      " At 0    NN has     2.35\n",
      " At 1    NN has    -3.77\n",
      " At 2    NN has     2.17\n",
      " At 3    NN has     5.80\n",
      " At 4    NN has   -10.50\n",
      " At 5    NN has     2.75\n",
      " At 6    NN has    -3.37\n",
      " At 7    NN has   -10.75\n",
      " At 8    NN has     6.29\n",
      " At 9    NN has    -4.62\n"
     ]
    }
   ],
   "source": [
    "# random pic X\n",
    "for i,x in enumerate(model(X)[0]):\n",
    "    print(f\" At {i:<4} NN has {x.item():>8.2f}\")"
   ]
  },
  {
   "cell_type": "code",
   "execution_count": 109,
   "id": "3d4113a2-b4bb-4df4-8e21-c194ed2ee5b3",
   "metadata": {},
   "outputs": [
    {
     "name": "stdout",
     "output_type": "stream",
     "text": [
      " At 0    NN has    -1.50\n",
      " At 1    NN has    -1.79\n",
      " At 2    NN has    -1.89\n",
      " At 3    NN has     0.02\n",
      " At 4    NN has    -6.92\n",
      " At 5    NN has     2.13\n",
      " At 6    NN has    -2.24\n",
      " At 7    NN has    -7.79\n",
      " At 8    NN has    12.79\n",
      " At 9    NN has     0.18\n"
     ]
    }
   ],
   "source": [
    "img777, label = training_data[777]\n",
    "for i,x in enumerate(model(img777.to(device))[0]):\n",
    "    print(f\" At {i:<4} NN has {x.item():>8.2f}\")"
   ]
  },
  {
   "cell_type": "code",
   "execution_count": null,
   "id": "6af9a0ec-090f-42d7-b4bb-0d0b6c022858",
   "metadata": {},
   "outputs": [],
   "source": []
  }
 ],
 "metadata": {
  "kernelspec": {
   "display_name": "Python 3 (ipykernel)",
   "language": "python",
   "name": "python3"
  },
  "language_info": {
   "codemirror_mode": {
    "name": "ipython",
    "version": 3
   },
   "file_extension": ".py",
   "mimetype": "text/x-python",
   "name": "python",
   "nbconvert_exporter": "python",
   "pygments_lexer": "ipython3",
   "version": "3.9.12"
  }
 },
 "nbformat": 4,
 "nbformat_minor": 5
}
