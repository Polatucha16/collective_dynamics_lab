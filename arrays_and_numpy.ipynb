{
 "cells": [
  {
   "cell_type": "code",
   "execution_count": 1,
   "id": "4bc7c45c-8331-421f-ba24-c36bbfcf41ce",
   "metadata": {},
   "outputs": [],
   "source": [
    "import numpy as np"
   ]
  },
  {
   "cell_type": "code",
   "execution_count": 18,
   "id": "5849867c-8d6d-4dba-977b-9018695620ad",
   "metadata": {},
   "outputs": [
    {
     "data": {
      "text/plain": [
       "19"
      ]
     },
     "execution_count": 18,
     "metadata": {},
     "output_type": "execute_result"
    }
   ],
   "source": [
    "\"\"\" sum of array \"\"\" # <- this can be used to create multi-line string. Here used as a comment.\n",
    "arr = np.array([3,5,4,6,1])\n",
    "total = np.sum(arr)\n",
    "total"
   ]
  },
  {
   "cell_type": "code",
   "execution_count": 21,
   "id": "c40644f4-16a2-41f5-8f05-ad57781d0716",
   "metadata": {},
   "outputs": [
    {
     "data": {
      "text/plain": [
       "6"
      ]
     },
     "execution_count": 21,
     "metadata": {},
     "output_type": "execute_result"
    }
   ],
   "source": [
    "\"\"\" Given an array, find the largest element in it. \"\"\"\n",
    "arr = np.array([3,5,4,6,1])\n",
    "max_of_arr = np.amax(arr)\n",
    "max_of_arr"
   ]
  },
  {
   "cell_type": "code",
   "execution_count": 57,
   "id": "31455a1a-4f29-424b-9eb3-f0a4027a40a3",
   "metadata": {},
   "outputs": [
    {
     "data": {
      "text/plain": [
       "' shape of array '"
      ]
     },
     "execution_count": 57,
     "metadata": {},
     "output_type": "execute_result"
    }
   ],
   "source": [
    "\"\"\" shape of array \"\"\"\n",
    "\n",
    "# arr_shape1 = np.array([3,5,4,6,1])\n",
    "# print(f'Array arr_shape1 = {arr_shape1} has shape: {arr_shape1.shape}.')\n",
    "\n",
    "# arr_shape2 = np.array([[3,5,4,6,1]])\n",
    "# print(f'Array arr_shape2 = {arr_shape2} has shape: {arr_shape2.shape}.')\n",
    "\n",
    "# n=8\n",
    "# arr_reshaped = np.array(range(n))\n",
    "# print(f'Array arr_reshaped = {arr_reshaped} has shape: {arr_reshaped.shape}.')\n",
    "\n",
    "# arr_reshaped = arr_reshaped.reshape(1,n) \n",
    "# print(f'Array arr_reshaped = {arr_reshaped} has shape: {arr_reshaped.shape}.')\n",
    "\n",
    "# arr_reshaped = arr_reshaped.reshape(2,-1) # <- numpy treat -1 as unknow part of shape \n",
    "# print(f'Array arr_reshaped = \\n {arr_reshaped} \\n has shape: {arr_reshaped.shape}.')\n",
    "\n",
    "# arr_reshaped = arr_reshaped.reshape(-1,1) # can be used to create \"column vectors\"\n",
    "# print(f'Array arr_reshaped = \\n {arr_reshaped} \\n has shape: {arr_reshaped.shape}.')\n"
   ]
  },
  {
   "cell_type": "code",
   "execution_count": null,
   "id": "af5d5eb7-7ef9-496c-94a4-25d287413e35",
   "metadata": {},
   "outputs": [],
   "source": [
    "\"\"\" array slicing (show, Miro exercise)\"\"\""
   ]
  },
  {
   "cell_type": "code",
   "execution_count": 79,
   "id": "f1e1a329-5430-49ed-9109-e0a4c2f99fd1",
   "metadata": {},
   "outputs": [
    {
     "data": {
      "text/plain": [
       "array([2., 3., 4., 5., 6., 7., 0., 1.])"
      ]
     },
     "execution_count": 79,
     "metadata": {},
     "output_type": "execute_result"
    }
   ],
   "source": [
    "\"\"\" array rotation by d ( assume for d=1 it acts similarly to \"shift\" from dynamical systems )\"\"\"\n",
    "n, d = 8, 2\n",
    "arr_to_rotate = np.array(range(n))\n",
    "\n",
    "arr_after_rotation = np.zeros(n)\n",
    "arr_after_rotation[:-d] =  arr_to_rotate[d:] # assign beginning of rotated array\n",
    "arr_after_rotation[-d:] = arr_to_rotate[:d]  # assign tail      of rotated array\n",
    "arr_after_rotation "
   ]
  },
  {
   "cell_type": "code",
   "execution_count": null,
   "id": "cfe278c0-5f13-4304-9eea-fbd7743be4c7",
   "metadata": {},
   "outputs": [],
   "source": [
    "\"\"\" make a function out of array rotation \"\"\"\n",
    "def arr_rot(arr, num_of_shifts):\n",
    "    "
   ]
  },
  {
   "cell_type": "code",
   "execution_count": null,
   "id": "c66d99c7-50c8-400b-aa85-6177b386fa6a",
   "metadata": {},
   "outputs": [],
   "source": [
    "\"\"\" HW: change arr_rot to accept any d: 0, positvive greater than length, negative less than negative length\"\"\""
   ]
  }
 ],
 "metadata": {
  "kernelspec": {
   "display_name": "Python 3 (ipykernel)",
   "language": "python",
   "name": "python3"
  },
  "language_info": {
   "codemirror_mode": {
    "name": "ipython",
    "version": 3
   },
   "file_extension": ".py",
   "mimetype": "text/x-python",
   "name": "python",
   "nbconvert_exporter": "python",
   "pygments_lexer": "ipython3",
   "version": "3.9.12"
  }
 },
 "nbformat": 4,
 "nbformat_minor": 5
}
